{
 "cells": [
  {
   "cell_type": "markdown",
   "metadata": {},
   "source": [
    "# Import all necessary libraries and components"
   ]
  },
  {
   "cell_type": "code",
   "execution_count": 2,
   "metadata": {},
   "outputs": [],
   "source": [
    "import argparse\n",
    "import sys\n",
    "import time\n",
    "import os\n",
    "import csv\n",
    "import torch\n",
    "import torchvision.datasets as datasets\n",
    "import torchvision.transforms as transforms\n",
    "import torch.utils.data\n",
    "import torch.nn\n",
    "import numpy as np\n",
    "from sklearn.metrics import average_precision_score, precision_recall_curve, accuracy_score\n",
    "from PIL import Image\n",
    "from tensorboardX import SummaryWriter\n",
    "\n",
    "\n",
    "from networks.resnet import resnet50\n",
    "\n",
    "from tqdm import tqdm\n"
   ]
  },
  {
   "cell_type": "markdown",
   "metadata": {},
   "source": [
    "### Load Model for Evaluation\n",
    "\n",
    "Select weights for desired trained model (photoshop0, photoshop0.1, photoshop0.5)"
   ]
  },
  {
   "cell_type": "code",
   "execution_count": 3,
   "metadata": {},
   "outputs": [
    {
     "data": {
      "text/plain": [
       "ResNet(\n",
       "  (conv1): Conv2d(3, 64, kernel_size=(7, 7), stride=(2, 2), padding=(3, 3), bias=False)\n",
       "  (bn1): BatchNorm2d(64, eps=1e-05, momentum=0.1, affine=True, track_running_stats=True)\n",
       "  (relu): ReLU(inplace=True)\n",
       "  (maxpool): MaxPool2d(kernel_size=3, stride=2, padding=1, dilation=1, ceil_mode=False)\n",
       "  (layer1): Sequential(\n",
       "    (0): Bottleneck(\n",
       "      (conv1): Conv2d(64, 64, kernel_size=(1, 1), stride=(1, 1), bias=False)\n",
       "      (bn1): BatchNorm2d(64, eps=1e-05, momentum=0.1, affine=True, track_running_stats=True)\n",
       "      (conv2): Conv2d(64, 64, kernel_size=(3, 3), stride=(1, 1), padding=(1, 1), bias=False)\n",
       "      (bn2): BatchNorm2d(64, eps=1e-05, momentum=0.1, affine=True, track_running_stats=True)\n",
       "      (conv3): Conv2d(64, 256, kernel_size=(1, 1), stride=(1, 1), bias=False)\n",
       "      (bn3): BatchNorm2d(256, eps=1e-05, momentum=0.1, affine=True, track_running_stats=True)\n",
       "      (relu): ReLU(inplace=True)\n",
       "      (downsample): Sequential(\n",
       "        (0): Conv2d(64, 256, kernel_size=(1, 1), stride=(1, 1), bias=False)\n",
       "        (1): BatchNorm2d(256, eps=1e-05, momentum=0.1, affine=True, track_running_stats=True)\n",
       "      )\n",
       "    )\n",
       "    (1): Bottleneck(\n",
       "      (conv1): Conv2d(256, 64, kernel_size=(1, 1), stride=(1, 1), bias=False)\n",
       "      (bn1): BatchNorm2d(64, eps=1e-05, momentum=0.1, affine=True, track_running_stats=True)\n",
       "      (conv2): Conv2d(64, 64, kernel_size=(3, 3), stride=(1, 1), padding=(1, 1), bias=False)\n",
       "      (bn2): BatchNorm2d(64, eps=1e-05, momentum=0.1, affine=True, track_running_stats=True)\n",
       "      (conv3): Conv2d(64, 256, kernel_size=(1, 1), stride=(1, 1), bias=False)\n",
       "      (bn3): BatchNorm2d(256, eps=1e-05, momentum=0.1, affine=True, track_running_stats=True)\n",
       "      (relu): ReLU(inplace=True)\n",
       "    )\n",
       "    (2): Bottleneck(\n",
       "      (conv1): Conv2d(256, 64, kernel_size=(1, 1), stride=(1, 1), bias=False)\n",
       "      (bn1): BatchNorm2d(64, eps=1e-05, momentum=0.1, affine=True, track_running_stats=True)\n",
       "      (conv2): Conv2d(64, 64, kernel_size=(3, 3), stride=(1, 1), padding=(1, 1), bias=False)\n",
       "      (bn2): BatchNorm2d(64, eps=1e-05, momentum=0.1, affine=True, track_running_stats=True)\n",
       "      (conv3): Conv2d(64, 256, kernel_size=(1, 1), stride=(1, 1), bias=False)\n",
       "      (bn3): BatchNorm2d(256, eps=1e-05, momentum=0.1, affine=True, track_running_stats=True)\n",
       "      (relu): ReLU(inplace=True)\n",
       "    )\n",
       "  )\n",
       "  (layer2): Sequential(\n",
       "    (0): Bottleneck(\n",
       "      (conv1): Conv2d(256, 128, kernel_size=(1, 1), stride=(1, 1), bias=False)\n",
       "      (bn1): BatchNorm2d(128, eps=1e-05, momentum=0.1, affine=True, track_running_stats=True)\n",
       "      (conv2): Conv2d(128, 128, kernel_size=(3, 3), stride=(2, 2), padding=(1, 1), bias=False)\n",
       "      (bn2): BatchNorm2d(128, eps=1e-05, momentum=0.1, affine=True, track_running_stats=True)\n",
       "      (conv3): Conv2d(128, 512, kernel_size=(1, 1), stride=(1, 1), bias=False)\n",
       "      (bn3): BatchNorm2d(512, eps=1e-05, momentum=0.1, affine=True, track_running_stats=True)\n",
       "      (relu): ReLU(inplace=True)\n",
       "      (downsample): Sequential(\n",
       "        (0): Conv2d(256, 512, kernel_size=(1, 1), stride=(2, 2), bias=False)\n",
       "        (1): BatchNorm2d(512, eps=1e-05, momentum=0.1, affine=True, track_running_stats=True)\n",
       "      )\n",
       "    )\n",
       "    (1): Bottleneck(\n",
       "      (conv1): Conv2d(512, 128, kernel_size=(1, 1), stride=(1, 1), bias=False)\n",
       "      (bn1): BatchNorm2d(128, eps=1e-05, momentum=0.1, affine=True, track_running_stats=True)\n",
       "      (conv2): Conv2d(128, 128, kernel_size=(3, 3), stride=(1, 1), padding=(1, 1), bias=False)\n",
       "      (bn2): BatchNorm2d(128, eps=1e-05, momentum=0.1, affine=True, track_running_stats=True)\n",
       "      (conv3): Conv2d(128, 512, kernel_size=(1, 1), stride=(1, 1), bias=False)\n",
       "      (bn3): BatchNorm2d(512, eps=1e-05, momentum=0.1, affine=True, track_running_stats=True)\n",
       "      (relu): ReLU(inplace=True)\n",
       "    )\n",
       "    (2): Bottleneck(\n",
       "      (conv1): Conv2d(512, 128, kernel_size=(1, 1), stride=(1, 1), bias=False)\n",
       "      (bn1): BatchNorm2d(128, eps=1e-05, momentum=0.1, affine=True, track_running_stats=True)\n",
       "      (conv2): Conv2d(128, 128, kernel_size=(3, 3), stride=(1, 1), padding=(1, 1), bias=False)\n",
       "      (bn2): BatchNorm2d(128, eps=1e-05, momentum=0.1, affine=True, track_running_stats=True)\n",
       "      (conv3): Conv2d(128, 512, kernel_size=(1, 1), stride=(1, 1), bias=False)\n",
       "      (bn3): BatchNorm2d(512, eps=1e-05, momentum=0.1, affine=True, track_running_stats=True)\n",
       "      (relu): ReLU(inplace=True)\n",
       "    )\n",
       "    (3): Bottleneck(\n",
       "      (conv1): Conv2d(512, 128, kernel_size=(1, 1), stride=(1, 1), bias=False)\n",
       "      (bn1): BatchNorm2d(128, eps=1e-05, momentum=0.1, affine=True, track_running_stats=True)\n",
       "      (conv2): Conv2d(128, 128, kernel_size=(3, 3), stride=(1, 1), padding=(1, 1), bias=False)\n",
       "      (bn2): BatchNorm2d(128, eps=1e-05, momentum=0.1, affine=True, track_running_stats=True)\n",
       "      (conv3): Conv2d(128, 512, kernel_size=(1, 1), stride=(1, 1), bias=False)\n",
       "      (bn3): BatchNorm2d(512, eps=1e-05, momentum=0.1, affine=True, track_running_stats=True)\n",
       "      (relu): ReLU(inplace=True)\n",
       "    )\n",
       "  )\n",
       "  (layer3): Sequential(\n",
       "    (0): Bottleneck(\n",
       "      (conv1): Conv2d(512, 256, kernel_size=(1, 1), stride=(1, 1), bias=False)\n",
       "      (bn1): BatchNorm2d(256, eps=1e-05, momentum=0.1, affine=True, track_running_stats=True)\n",
       "      (conv2): Conv2d(256, 256, kernel_size=(3, 3), stride=(2, 2), padding=(1, 1), bias=False)\n",
       "      (bn2): BatchNorm2d(256, eps=1e-05, momentum=0.1, affine=True, track_running_stats=True)\n",
       "      (conv3): Conv2d(256, 1024, kernel_size=(1, 1), stride=(1, 1), bias=False)\n",
       "      (bn3): BatchNorm2d(1024, eps=1e-05, momentum=0.1, affine=True, track_running_stats=True)\n",
       "      (relu): ReLU(inplace=True)\n",
       "      (downsample): Sequential(\n",
       "        (0): Conv2d(512, 1024, kernel_size=(1, 1), stride=(2, 2), bias=False)\n",
       "        (1): BatchNorm2d(1024, eps=1e-05, momentum=0.1, affine=True, track_running_stats=True)\n",
       "      )\n",
       "    )\n",
       "    (1): Bottleneck(\n",
       "      (conv1): Conv2d(1024, 256, kernel_size=(1, 1), stride=(1, 1), bias=False)\n",
       "      (bn1): BatchNorm2d(256, eps=1e-05, momentum=0.1, affine=True, track_running_stats=True)\n",
       "      (conv2): Conv2d(256, 256, kernel_size=(3, 3), stride=(1, 1), padding=(1, 1), bias=False)\n",
       "      (bn2): BatchNorm2d(256, eps=1e-05, momentum=0.1, affine=True, track_running_stats=True)\n",
       "      (conv3): Conv2d(256, 1024, kernel_size=(1, 1), stride=(1, 1), bias=False)\n",
       "      (bn3): BatchNorm2d(1024, eps=1e-05, momentum=0.1, affine=True, track_running_stats=True)\n",
       "      (relu): ReLU(inplace=True)\n",
       "    )\n",
       "    (2): Bottleneck(\n",
       "      (conv1): Conv2d(1024, 256, kernel_size=(1, 1), stride=(1, 1), bias=False)\n",
       "      (bn1): BatchNorm2d(256, eps=1e-05, momentum=0.1, affine=True, track_running_stats=True)\n",
       "      (conv2): Conv2d(256, 256, kernel_size=(3, 3), stride=(1, 1), padding=(1, 1), bias=False)\n",
       "      (bn2): BatchNorm2d(256, eps=1e-05, momentum=0.1, affine=True, track_running_stats=True)\n",
       "      (conv3): Conv2d(256, 1024, kernel_size=(1, 1), stride=(1, 1), bias=False)\n",
       "      (bn3): BatchNorm2d(1024, eps=1e-05, momentum=0.1, affine=True, track_running_stats=True)\n",
       "      (relu): ReLU(inplace=True)\n",
       "    )\n",
       "    (3): Bottleneck(\n",
       "      (conv1): Conv2d(1024, 256, kernel_size=(1, 1), stride=(1, 1), bias=False)\n",
       "      (bn1): BatchNorm2d(256, eps=1e-05, momentum=0.1, affine=True, track_running_stats=True)\n",
       "      (conv2): Conv2d(256, 256, kernel_size=(3, 3), stride=(1, 1), padding=(1, 1), bias=False)\n",
       "      (bn2): BatchNorm2d(256, eps=1e-05, momentum=0.1, affine=True, track_running_stats=True)\n",
       "      (conv3): Conv2d(256, 1024, kernel_size=(1, 1), stride=(1, 1), bias=False)\n",
       "      (bn3): BatchNorm2d(1024, eps=1e-05, momentum=0.1, affine=True, track_running_stats=True)\n",
       "      (relu): ReLU(inplace=True)\n",
       "    )\n",
       "    (4): Bottleneck(\n",
       "      (conv1): Conv2d(1024, 256, kernel_size=(1, 1), stride=(1, 1), bias=False)\n",
       "      (bn1): BatchNorm2d(256, eps=1e-05, momentum=0.1, affine=True, track_running_stats=True)\n",
       "      (conv2): Conv2d(256, 256, kernel_size=(3, 3), stride=(1, 1), padding=(1, 1), bias=False)\n",
       "      (bn2): BatchNorm2d(256, eps=1e-05, momentum=0.1, affine=True, track_running_stats=True)\n",
       "      (conv3): Conv2d(256, 1024, kernel_size=(1, 1), stride=(1, 1), bias=False)\n",
       "      (bn3): BatchNorm2d(1024, eps=1e-05, momentum=0.1, affine=True, track_running_stats=True)\n",
       "      (relu): ReLU(inplace=True)\n",
       "    )\n",
       "    (5): Bottleneck(\n",
       "      (conv1): Conv2d(1024, 256, kernel_size=(1, 1), stride=(1, 1), bias=False)\n",
       "      (bn1): BatchNorm2d(256, eps=1e-05, momentum=0.1, affine=True, track_running_stats=True)\n",
       "      (conv2): Conv2d(256, 256, kernel_size=(3, 3), stride=(1, 1), padding=(1, 1), bias=False)\n",
       "      (bn2): BatchNorm2d(256, eps=1e-05, momentum=0.1, affine=True, track_running_stats=True)\n",
       "      (conv3): Conv2d(256, 1024, kernel_size=(1, 1), stride=(1, 1), bias=False)\n",
       "      (bn3): BatchNorm2d(1024, eps=1e-05, momentum=0.1, affine=True, track_running_stats=True)\n",
       "      (relu): ReLU(inplace=True)\n",
       "    )\n",
       "  )\n",
       "  (layer4): Sequential(\n",
       "    (0): Bottleneck(\n",
       "      (conv1): Conv2d(1024, 512, kernel_size=(1, 1), stride=(1, 1), bias=False)\n",
       "      (bn1): BatchNorm2d(512, eps=1e-05, momentum=0.1, affine=True, track_running_stats=True)\n",
       "      (conv2): Conv2d(512, 512, kernel_size=(3, 3), stride=(2, 2), padding=(1, 1), bias=False)\n",
       "      (bn2): BatchNorm2d(512, eps=1e-05, momentum=0.1, affine=True, track_running_stats=True)\n",
       "      (conv3): Conv2d(512, 2048, kernel_size=(1, 1), stride=(1, 1), bias=False)\n",
       "      (bn3): BatchNorm2d(2048, eps=1e-05, momentum=0.1, affine=True, track_running_stats=True)\n",
       "      (relu): ReLU(inplace=True)\n",
       "      (downsample): Sequential(\n",
       "        (0): Conv2d(1024, 2048, kernel_size=(1, 1), stride=(2, 2), bias=False)\n",
       "        (1): BatchNorm2d(2048, eps=1e-05, momentum=0.1, affine=True, track_running_stats=True)\n",
       "      )\n",
       "    )\n",
       "    (1): Bottleneck(\n",
       "      (conv1): Conv2d(2048, 512, kernel_size=(1, 1), stride=(1, 1), bias=False)\n",
       "      (bn1): BatchNorm2d(512, eps=1e-05, momentum=0.1, affine=True, track_running_stats=True)\n",
       "      (conv2): Conv2d(512, 512, kernel_size=(3, 3), stride=(1, 1), padding=(1, 1), bias=False)\n",
       "      (bn2): BatchNorm2d(512, eps=1e-05, momentum=0.1, affine=True, track_running_stats=True)\n",
       "      (conv3): Conv2d(512, 2048, kernel_size=(1, 1), stride=(1, 1), bias=False)\n",
       "      (bn3): BatchNorm2d(2048, eps=1e-05, momentum=0.1, affine=True, track_running_stats=True)\n",
       "      (relu): ReLU(inplace=True)\n",
       "    )\n",
       "    (2): Bottleneck(\n",
       "      (conv1): Conv2d(2048, 512, kernel_size=(1, 1), stride=(1, 1), bias=False)\n",
       "      (bn1): BatchNorm2d(512, eps=1e-05, momentum=0.1, affine=True, track_running_stats=True)\n",
       "      (conv2): Conv2d(512, 512, kernel_size=(3, 3), stride=(1, 1), padding=(1, 1), bias=False)\n",
       "      (bn2): BatchNorm2d(512, eps=1e-05, momentum=0.1, affine=True, track_running_stats=True)\n",
       "      (conv3): Conv2d(512, 2048, kernel_size=(1, 1), stride=(1, 1), bias=False)\n",
       "      (bn3): BatchNorm2d(2048, eps=1e-05, momentum=0.1, affine=True, track_running_stats=True)\n",
       "      (relu): ReLU(inplace=True)\n",
       "    )\n",
       "  )\n",
       "  (avgpool): AdaptiveAvgPool2d(output_size=(1, 1))\n",
       "  (fc): Linear(in_features=2048, out_features=1, bias=True)\n",
       ")"
      ]
     },
     "execution_count": 3,
     "metadata": {},
     "output_type": "execute_result"
    }
   ],
   "source": [
    "model = resnet50(num_classes=1)\n",
    "state_dict = torch.load('checkpoints/photoshop0/model_epoch_best.pth', map_location='cpu')\n",
    "model.load_state_dict(state_dict['model'])\n",
    "model.eval()\n",
    "model.cuda()"
   ]
  },
  {
   "cell_type": "markdown",
   "metadata": {},
   "source": [
    "### Specify Transformations"
   ]
  },
  {
   "cell_type": "code",
   "execution_count": 4,
   "metadata": {},
   "outputs": [],
   "source": [
    "trans_init = []\n",
    "trans = transforms.Compose(trans_init + [\n",
    "    transforms.ToTensor(),\n",
    "    transforms.Normalize(mean=[0.485, 0.456, 0.406], std=[0.229, 0.224, 0.225]),\n",
    "])"
   ]
  },
  {
   "cell_type": "markdown",
   "metadata": {},
   "source": [
    "### Test on Desired Dataset\n",
    "\n",
    "Specify path to dataset in dir1"
   ]
  },
  {
   "cell_type": "code",
   "execution_count": 5,
   "metadata": {},
   "outputs": [
    {
     "name": "stdout",
     "output_type": "stream",
     "text": [
      "Loading [1] datasets\n"
     ]
    },
    {
     "name": "stderr",
     "output_type": "stream",
     "text": [
      "100%|██████████| 7/7 [00:07<00:00,  1.08s/it]"
     ]
    },
    {
     "name": "stdout",
     "output_type": "stream",
     "text": [
      "Average sizes: [600.00+/-0.00] x [600.00+/-0.00] = [0.36+/-0.00 Mpix]\n",
      "Num reals: 108, Num fakes: 96\n",
      "AP: 88.25, Acc: 80.39, Acc (real): 87.96, Acc (fake): 71.88\n"
     ]
    },
    {
     "name": "stderr",
     "output_type": "stream",
     "text": [
      "\n"
     ]
    }
   ],
   "source": [
    "dir1 = ['./dataset/test/face',]\n",
    "\n",
    "print('Loading [%i] datasets'%len(dir1))\n",
    "data_loaders = []\n",
    "for dir in dir1:\n",
    "  dataset = datasets.ImageFolder(dir, transform=trans)\n",
    "  data_loaders+=[torch.utils.data.DataLoader(dataset,\n",
    "                                          batch_size=32,\n",
    "                                          shuffle=False,\n",
    "                                          num_workers=4),]\n",
    "\n",
    "y_true, y_pred = [], []\n",
    "Hs, Ws = [], []\n",
    "with torch.no_grad():\n",
    "  for data_loader in data_loaders:\n",
    "    for data, label in tqdm(data_loader):\n",
    "    # for data, label in data_loader:\n",
    "      Hs.append(data.shape[2])\n",
    "      Ws.append(data.shape[3])\n",
    "\n",
    "      data = data.cuda()\n",
    "\n",
    "      y_true.extend(label.flatten().tolist())\n",
    "      y_pred.extend(model(data).sigmoid().flatten().tolist())\n",
    "\n",
    "Hs, Ws = np.array(Hs), np.array(Ws)\n",
    "y_true, y_pred = np.array(y_true), np.array(y_pred)\n",
    "\n",
    "print('Average sizes: [{:2.2f}+/-{:2.2f}] x [{:2.2f}+/-{:2.2f}] = [{:2.2f}+/-{:2.2f} Mpix]'.format(np.mean(Hs), np.std(Hs), np.mean(Ws), np.std(Ws), np.mean(Hs*Ws)/1e6, np.std(Hs*Ws)/1e6))\n",
    "print('Num reals: {}, Num fakes: {}'.format(np.sum(1-y_true), np.sum(y_true)))\n",
    "\n",
    "r_acc = accuracy_score(y_true[y_true==0], y_pred[y_true==0] > 0.5)\n",
    "f_acc = accuracy_score(y_true[y_true==1], y_pred[y_true==1] > 0.5)\n",
    "acc = accuracy_score(y_true, y_pred > 0.5)\n",
    "ap = average_precision_score(y_true, y_pred)\n",
    "\n",
    "print('AP: {:2.2f}, Acc: {:2.2f}, Acc (real): {:2.2f}, Acc (fake): {:2.2f}'.format(ap*100., acc*100., r_acc*100., f_acc*100.))"
   ]
  },
  {
   "cell_type": "markdown",
   "metadata": {},
   "source": [
    "### Import necessary packages and define validate and train functions"
   ]
  },
  {
   "cell_type": "code",
   "execution_count": 1,
   "metadata": {},
   "outputs": [],
   "source": [
    "import os\n",
    "import sys\n",
    "import time\n",
    "import torch\n",
    "import torch.nn\n",
    "import argparse\n",
    "from PIL import Image\n",
    "from tensorboardX import SummaryWriter\n",
    "\n",
    "from data import create_dataloader\n",
    "from earlystop import EarlyStopping\n",
    "from networks.trainer import Trainer\n",
    "\n",
    "import numpy as np\n",
    "from sklearn.metrics import average_precision_score, precision_recall_curve, accuracy_score\n",
    "\n",
    "\n",
    "def validate(model, classes, val_dataroot, batch_size, num_threads, mode, val_isTrain, val_no_crop, cropSize, no_flip, val_no_resize, rz_interp, loadSize, blur_prob, val_blur_sig, jpg_prob, val_jpg_method, val_jpg_qual, val_serial_batches):\n",
    "    data_loader = create_dataloader(classes, val_dataroot, batch_size, num_threads, mode, val_isTrain, val_no_crop, cropSize, no_flip, val_no_resize, rz_interp, loadSize, blur_prob, val_blur_sig, jpg_prob, val_jpg_method, val_jpg_qual, val_serial_batches)\n",
    "\n",
    "    with torch.no_grad():\n",
    "        y_true, y_pred = [], []\n",
    "        for img, label in data_loader:\n",
    "            in_tens = img.cuda()\n",
    "            y_pred.extend(model(in_tens).sigmoid().flatten().tolist())\n",
    "            y_true.extend(label.flatten().tolist())\n",
    "\n",
    "    y_true, y_pred = np.array(y_true), np.array(y_pred)\n",
    "    r_acc = accuracy_score(y_true[y_true==0], y_pred[y_true==0] > 0.5)\n",
    "    f_acc = accuracy_score(y_true[y_true==1], y_pred[y_true==1] > 0.5)\n",
    "    acc = accuracy_score(y_true, y_pred > 0.5)\n",
    "    ap = average_precision_score(y_true, y_pred)\n",
    "    return acc, ap, r_acc, f_acc, y_true, y_pred\n",
    "\n",
    "def train(classes, niter, loss_freq, save_latest_freq, save_epoch_freq, batch_size, dataroot, mode, isTrain, no_crop, cropSize, no_flip, no_resize, rz_interp, loadSize, blur_prob, blur_sig, jpg_prob, jpg_method, jpg_qual, checkpoints_dir, name, continue_train, init_gain, optim, lr, beta1, epoch, gpu_ids, earlystop_epoch, serial_batches, num_threads):\n",
    "    val_dataroot = dataroot + \"/val\"\n",
    "    val_isTrain = False\n",
    "    val_no_resize = False\n",
    "    val_no_crop = False\n",
    "    val_serial_batches = True\n",
    "    val_jpg_method = ['pil']\n",
    "    val_blur_sig = [(blur_sig[0] + blur_sig[1]) / 2]\n",
    "    val_jpg_qual = [int((jpg_qual[0] + jpg_qual[-1]) / 2)]\n",
    "    \n",
    "    dataroot = dataroot + \"/train\"\n",
    "    data_loader = create_dataloader(classes, dataroot, batch_size, num_threads, mode, isTrain, no_crop, cropSize, no_flip, no_resize, rz_interp, loadSize, blur_prob, blur_sig, jpg_prob, jpg_method, jpg_qual, serial_batches)\n",
    "    dataset_size = len(data_loader)\n",
    "    print('#training images = %d' % dataset_size)\n",
    "\n",
    "    train_writer = SummaryWriter(os.path.join(checkpoints_dir, name, \"train\"))\n",
    "    val_writer = SummaryWriter(os.path.join(checkpoints_dir, name, \"val\"))\n",
    "\n",
    "    model = Trainer(isTrain, checkpoints_dir, name, continue_train, init_gain, optim, lr, beta1, epoch, gpu_ids)\n",
    "    early_stopping = EarlyStopping(patience=earlystop_epoch, delta=-0.001, verbose=True)\n",
    "    for epoch in range(niter):\n",
    "        print(epoch)\n",
    "        epoch_start_time = time.time()\n",
    "        iter_data_time = time.time()\n",
    "        epoch_iter = 0\n",
    "\n",
    "        for i, data in enumerate(data_loader):\n",
    "            model.total_steps += 1\n",
    "            epoch_iter += batch_size\n",
    "\n",
    "            model.set_input(data)\n",
    "            model.optimize_parameters()\n",
    "\n",
    "            if model.total_steps % loss_freq == 0:\n",
    "                print(\"Train loss: {} at step: {}\".format(model.loss, model.total_steps))\n",
    "                train_writer.add_scalar('loss', model.loss, model.total_steps)\n",
    "\n",
    "            if model.total_steps % save_latest_freq == 0:\n",
    "                print('saving the latest model %s (epoch %d, model.total_steps %d)' %\n",
    "                      (name, epoch, model.total_steps))\n",
    "                model.save_networks('latest')\n",
    "\n",
    "            # print(\"Iter time: %d sec\" % (time.time()-iter_data_time))\n",
    "            iter_data_time = time.time()\n",
    "\n",
    "        if epoch % save_epoch_freq == 0:\n",
    "            print('saving the model at the end of epoch %d, iters %d' %\n",
    "                  (epoch, model.total_steps))\n",
    "            model.save_networks('latest')\n",
    "            model.save_networks(epoch)\n",
    "\n",
    "        # Validation\n",
    "        model.eval()\n",
    "        acc, ap = validate(model.model, classes, val_dataroot, batch_size, num_threads, mode, val_isTrain, val_no_crop, cropSize, no_flip, val_no_resize, rz_interp, loadSize, blur_prob, val_blur_sig, jpg_prob, val_jpg_method, val_jpg_qual, val_serial_batches)[:2]\n",
    "        val_writer.add_scalar('accuracy', acc, model.total_steps)\n",
    "        val_writer.add_scalar('ap', ap, model.total_steps)\n",
    "        print(\"(Val @ epoch {}) acc: {}; ap: {}\".format(epoch, acc, ap))\n",
    "\n",
    "        early_stopping(acc, model)\n",
    "        if early_stopping.early_stop:\n",
    "            cont_train = model.adjust_learning_rate()\n",
    "            if cont_train:\n",
    "                print(\"Learning rate dropped by 10, continue training...\")\n",
    "                early_stopping = EarlyStopping(patience=earlystop_epoch, delta=-0.002, verbose=True)\n",
    "            else:\n",
    "                print(\"Early stopping.\")\n",
    "                break\n",
    "        model.train()"
   ]
  },
  {
   "cell_type": "markdown",
   "metadata": {},
   "source": [
    "### Specify variables required to train the model"
   ]
  },
  {
   "cell_type": "code",
   "execution_count": 2,
   "metadata": {},
   "outputs": [],
   "source": [
    "mode = 'binary'\n",
    "arch = 'res50'\n",
    "rz_interp = ['bilinear']\n",
    "blur_prob = 0.5\n",
    "blur_sig = 0.0, 3.0\n",
    "jpg_prob = 0.5\n",
    "jpg_method = [\"cv2\", \"pil\"]\n",
    "jpg_quality = [30, 100]\n",
    "dataroot = \"./dataset\"\n",
    "classes = [\"face\"]\n",
    "classes_bal = False\n",
    "batch_size = 16\n",
    "load_size = 600\n",
    "crop_size = 556\n",
    "gpu_ids = [0]\n",
    "name = \"photoshoped_final\"\n",
    "epoch = \"latest\"\n",
    "num_threads = 0\n",
    "checkpoints_dir = \"./checkpoints\"\n",
    "serial_batches = False\n",
    "resize_or_crop = \"scale_and_crop\"\n",
    "no_flip = False\n",
    "init_type = \"normal\"\n",
    "suffix = \"\"\n",
    "earlystop_epoch = 5\n",
    "data_aug = False\n",
    "optim = \"adam\"\n",
    "new_optim = False\n",
    "loss_freq = 400\n",
    "save_latest_freq = 2000\n",
    "save_epoch_freq = 20\n",
    "continue_train = False\n",
    "epoch_count = 1\n",
    "last_epoch = -1\n",
    "train_split = \"train\"\n",
    "val_split = \"val\"\n",
    "niter = 10000\n",
    "beta1 = 0.9\n",
    "lr = 0.0001\n",
    "isTrain = True\n",
    "no_crop = False\n",
    "no_resize = False\n",
    "init_gain = 0.02"
   ]
  },
  {
   "cell_type": "markdown",
   "metadata": {},
   "source": [
    "### Train 50% Augmentation Model"
   ]
  },
  {
   "cell_type": "code",
   "execution_count": 4,
   "metadata": {},
   "outputs": [
    {
     "name": "stdout",
     "output_type": "stream",
     "text": [
      "face\n",
      "#training images = 103\n",
      "0\n"
     ]
    },
    {
     "name": "stderr",
     "output_type": "stream",
     "text": [
      "C:\\Users\\Jakob\\anaconda3\\envs\\DeepLearning\\lib\\site-packages\\torchvision\\transforms\\functional.py:423: UserWarning: Argument interpolation should be of type InterpolationMode instead of int. Please, use InterpolationMode enum.\n",
      "  warnings.warn(\n"
     ]
    },
    {
     "name": "stdout",
     "output_type": "stream",
     "text": [
      "saving the model at the end of epoch 0, iters 103\n",
      "face\n",
      "(Val @ epoch 0) acc: 0.6519607843137255; ap: 0.6986185219283663\n",
      "Validation accuracy increased (-inf --> 0.651961).  Saving model ...\n",
      "1\n"
     ]
    },
    {
     "name": "stderr",
     "output_type": "stream",
     "text": [
      "C:\\Users\\Jakob\\anaconda3\\envs\\DeepLearning\\lib\\site-packages\\torchvision\\transforms\\functional.py:423: UserWarning: Argument interpolation should be of type InterpolationMode instead of int. Please, use InterpolationMode enum.\n",
      "  warnings.warn(\n"
     ]
    },
    {
     "name": "stdout",
     "output_type": "stream",
     "text": [
      "face\n",
      "(Val @ epoch 1) acc: 0.6519607843137255; ap: 0.6430679585839892\n",
      "EarlyStopping counter: 1 out of 5\n",
      "2\n"
     ]
    },
    {
     "name": "stderr",
     "output_type": "stream",
     "text": [
      "C:\\Users\\Jakob\\anaconda3\\envs\\DeepLearning\\lib\\site-packages\\torchvision\\transforms\\functional.py:423: UserWarning: Argument interpolation should be of type InterpolationMode instead of int. Please, use InterpolationMode enum.\n",
      "  warnings.warn(\n"
     ]
    },
    {
     "name": "stdout",
     "output_type": "stream",
     "text": [
      "face\n",
      "(Val @ epoch 2) acc: 0.6666666666666666; ap: 0.727660911245284\n",
      "Validation accuracy increased (0.651961 --> 0.666667).  Saving model ...\n",
      "3\n"
     ]
    },
    {
     "name": "stderr",
     "output_type": "stream",
     "text": [
      "C:\\Users\\Jakob\\anaconda3\\envs\\DeepLearning\\lib\\site-packages\\torchvision\\transforms\\functional.py:423: UserWarning: Argument interpolation should be of type InterpolationMode instead of int. Please, use InterpolationMode enum.\n",
      "  warnings.warn(\n"
     ]
    },
    {
     "name": "stdout",
     "output_type": "stream",
     "text": [
      "Train loss: 0.6507850289344788 at step: 400\n",
      "face\n",
      "(Val @ epoch 3) acc: 0.6862745098039216; ap: 0.7101063617311384\n",
      "Validation accuracy increased (0.666667 --> 0.686275).  Saving model ...\n",
      "4\n"
     ]
    },
    {
     "name": "stderr",
     "output_type": "stream",
     "text": [
      "C:\\Users\\Jakob\\anaconda3\\envs\\DeepLearning\\lib\\site-packages\\torchvision\\transforms\\functional.py:423: UserWarning: Argument interpolation should be of type InterpolationMode instead of int. Please, use InterpolationMode enum.\n",
      "  warnings.warn(\n"
     ]
    },
    {
     "name": "stdout",
     "output_type": "stream",
     "text": [
      "face\n",
      "(Val @ epoch 4) acc: 0.7009803921568627; ap: 0.7278763176708418\n",
      "Validation accuracy increased (0.686275 --> 0.700980).  Saving model ...\n",
      "5\n"
     ]
    },
    {
     "name": "stderr",
     "output_type": "stream",
     "text": [
      "C:\\Users\\Jakob\\anaconda3\\envs\\DeepLearning\\lib\\site-packages\\torchvision\\transforms\\functional.py:423: UserWarning: Argument interpolation should be of type InterpolationMode instead of int. Please, use InterpolationMode enum.\n",
      "  warnings.warn(\n"
     ]
    },
    {
     "name": "stdout",
     "output_type": "stream",
     "text": [
      "face\n",
      "(Val @ epoch 5) acc: 0.7058823529411765; ap: 0.8052495814432942\n",
      "Validation accuracy increased (0.700980 --> 0.705882).  Saving model ...\n",
      "6\n"
     ]
    },
    {
     "name": "stderr",
     "output_type": "stream",
     "text": [
      "C:\\Users\\Jakob\\anaconda3\\envs\\DeepLearning\\lib\\site-packages\\torchvision\\transforms\\functional.py:423: UserWarning: Argument interpolation should be of type InterpolationMode instead of int. Please, use InterpolationMode enum.\n",
      "  warnings.warn(\n"
     ]
    },
    {
     "name": "stdout",
     "output_type": "stream",
     "text": [
      "face\n",
      "(Val @ epoch 6) acc: 0.6764705882352942; ap: 0.7610306672839346\n",
      "EarlyStopping counter: 1 out of 5\n",
      "7\n"
     ]
    },
    {
     "name": "stderr",
     "output_type": "stream",
     "text": [
      "C:\\Users\\Jakob\\anaconda3\\envs\\DeepLearning\\lib\\site-packages\\torchvision\\transforms\\functional.py:423: UserWarning: Argument interpolation should be of type InterpolationMode instead of int. Please, use InterpolationMode enum.\n",
      "  warnings.warn(\n"
     ]
    },
    {
     "name": "stdout",
     "output_type": "stream",
     "text": [
      "Train loss: 0.33413517475128174 at step: 800\n",
      "face\n",
      "(Val @ epoch 7) acc: 0.7401960784313726; ap: 0.7806695914548107\n",
      "Validation accuracy increased (0.705882 --> 0.740196).  Saving model ...\n",
      "8\n"
     ]
    },
    {
     "name": "stderr",
     "output_type": "stream",
     "text": [
      "C:\\Users\\Jakob\\anaconda3\\envs\\DeepLearning\\lib\\site-packages\\torchvision\\transforms\\functional.py:423: UserWarning: Argument interpolation should be of type InterpolationMode instead of int. Please, use InterpolationMode enum.\n",
      "  warnings.warn(\n"
     ]
    },
    {
     "name": "stdout",
     "output_type": "stream",
     "text": [
      "face\n",
      "(Val @ epoch 8) acc: 0.7254901960784313; ap: 0.7748945262296982\n",
      "EarlyStopping counter: 1 out of 5\n",
      "9\n"
     ]
    },
    {
     "name": "stderr",
     "output_type": "stream",
     "text": [
      "C:\\Users\\Jakob\\anaconda3\\envs\\DeepLearning\\lib\\site-packages\\torchvision\\transforms\\functional.py:423: UserWarning: Argument interpolation should be of type InterpolationMode instead of int. Please, use InterpolationMode enum.\n",
      "  warnings.warn(\n"
     ]
    },
    {
     "name": "stdout",
     "output_type": "stream",
     "text": [
      "face\n",
      "(Val @ epoch 9) acc: 0.7254901960784313; ap: 0.8006046619189476\n",
      "EarlyStopping counter: 2 out of 5\n",
      "10\n"
     ]
    },
    {
     "name": "stderr",
     "output_type": "stream",
     "text": [
      "C:\\Users\\Jakob\\anaconda3\\envs\\DeepLearning\\lib\\site-packages\\torchvision\\transforms\\functional.py:423: UserWarning: Argument interpolation should be of type InterpolationMode instead of int. Please, use InterpolationMode enum.\n",
      "  warnings.warn(\n"
     ]
    },
    {
     "name": "stdout",
     "output_type": "stream",
     "text": [
      "face\n",
      "(Val @ epoch 10) acc: 0.7254901960784313; ap: 0.772900174230926\n",
      "EarlyStopping counter: 3 out of 5\n",
      "11\n"
     ]
    },
    {
     "name": "stderr",
     "output_type": "stream",
     "text": [
      "C:\\Users\\Jakob\\anaconda3\\envs\\DeepLearning\\lib\\site-packages\\torchvision\\transforms\\functional.py:423: UserWarning: Argument interpolation should be of type InterpolationMode instead of int. Please, use InterpolationMode enum.\n",
      "  warnings.warn(\n"
     ]
    },
    {
     "name": "stdout",
     "output_type": "stream",
     "text": [
      "Train loss: 0.1981142908334732 at step: 1200\n",
      "face\n",
      "(Val @ epoch 11) acc: 0.7107843137254902; ap: 0.7825688667512607\n",
      "EarlyStopping counter: 4 out of 5\n",
      "12\n"
     ]
    },
    {
     "name": "stderr",
     "output_type": "stream",
     "text": [
      "C:\\Users\\Jakob\\anaconda3\\envs\\DeepLearning\\lib\\site-packages\\torchvision\\transforms\\functional.py:423: UserWarning: Argument interpolation should be of type InterpolationMode instead of int. Please, use InterpolationMode enum.\n",
      "  warnings.warn(\n"
     ]
    },
    {
     "name": "stdout",
     "output_type": "stream",
     "text": [
      "face\n",
      "(Val @ epoch 12) acc: 0.7303921568627451; ap: 0.7777960133110752\n",
      "EarlyStopping counter: 5 out of 5\n",
      "Learning rate dropped by 10, continue training...\n",
      "13\n"
     ]
    },
    {
     "name": "stderr",
     "output_type": "stream",
     "text": [
      "C:\\Users\\Jakob\\anaconda3\\envs\\DeepLearning\\lib\\site-packages\\torchvision\\transforms\\functional.py:423: UserWarning: Argument interpolation should be of type InterpolationMode instead of int. Please, use InterpolationMode enum.\n",
      "  warnings.warn(\n"
     ]
    },
    {
     "name": "stdout",
     "output_type": "stream",
     "text": [
      "face\n",
      "(Val @ epoch 13) acc: 0.7401960784313726; ap: 0.8289423063548038\n",
      "Validation accuracy increased (-inf --> 0.740196).  Saving model ...\n",
      "14\n"
     ]
    },
    {
     "name": "stderr",
     "output_type": "stream",
     "text": [
      "C:\\Users\\Jakob\\anaconda3\\envs\\DeepLearning\\lib\\site-packages\\torchvision\\transforms\\functional.py:423: UserWarning: Argument interpolation should be of type InterpolationMode instead of int. Please, use InterpolationMode enum.\n",
      "  warnings.warn(\n"
     ]
    },
    {
     "name": "stdout",
     "output_type": "stream",
     "text": [
      "face\n",
      "(Val @ epoch 14) acc: 0.7745098039215687; ap: 0.8523768743196927\n",
      "Validation accuracy increased (0.740196 --> 0.774510).  Saving model ...\n",
      "15\n"
     ]
    },
    {
     "name": "stderr",
     "output_type": "stream",
     "text": [
      "C:\\Users\\Jakob\\anaconda3\\envs\\DeepLearning\\lib\\site-packages\\torchvision\\transforms\\functional.py:423: UserWarning: Argument interpolation should be of type InterpolationMode instead of int. Please, use InterpolationMode enum.\n",
      "  warnings.warn(\n"
     ]
    },
    {
     "name": "stdout",
     "output_type": "stream",
     "text": [
      "Train loss: 0.07561879605054855 at step: 1600\n",
      "face\n",
      "(Val @ epoch 15) acc: 0.8088235294117647; ap: 0.8443170286670294\n",
      "Validation accuracy increased (0.774510 --> 0.808824).  Saving model ...\n",
      "16\n"
     ]
    },
    {
     "name": "stderr",
     "output_type": "stream",
     "text": [
      "C:\\Users\\Jakob\\anaconda3\\envs\\DeepLearning\\lib\\site-packages\\torchvision\\transforms\\functional.py:423: UserWarning: Argument interpolation should be of type InterpolationMode instead of int. Please, use InterpolationMode enum.\n",
      "  warnings.warn(\n"
     ]
    },
    {
     "name": "stdout",
     "output_type": "stream",
     "text": [
      "face\n",
      "(Val @ epoch 16) acc: 0.7401960784313726; ap: 0.8349414519074525\n",
      "EarlyStopping counter: 1 out of 5\n",
      "17\n"
     ]
    },
    {
     "name": "stderr",
     "output_type": "stream",
     "text": [
      "C:\\Users\\Jakob\\anaconda3\\envs\\DeepLearning\\lib\\site-packages\\torchvision\\transforms\\functional.py:423: UserWarning: Argument interpolation should be of type InterpolationMode instead of int. Please, use InterpolationMode enum.\n",
      "  warnings.warn(\n"
     ]
    },
    {
     "name": "stdout",
     "output_type": "stream",
     "text": [
      "face\n",
      "(Val @ epoch 17) acc: 0.7598039215686274; ap: 0.8557947717692385\n",
      "EarlyStopping counter: 2 out of 5\n",
      "18\n"
     ]
    },
    {
     "name": "stderr",
     "output_type": "stream",
     "text": [
      "C:\\Users\\Jakob\\anaconda3\\envs\\DeepLearning\\lib\\site-packages\\torchvision\\transforms\\functional.py:423: UserWarning: Argument interpolation should be of type InterpolationMode instead of int. Please, use InterpolationMode enum.\n",
      "  warnings.warn(\n"
     ]
    },
    {
     "name": "stdout",
     "output_type": "stream",
     "text": [
      "face\n",
      "(Val @ epoch 18) acc: 0.7598039215686274; ap: 0.8427436604059468\n",
      "EarlyStopping counter: 3 out of 5\n",
      "19\n"
     ]
    },
    {
     "name": "stderr",
     "output_type": "stream",
     "text": [
      "C:\\Users\\Jakob\\anaconda3\\envs\\DeepLearning\\lib\\site-packages\\torchvision\\transforms\\functional.py:423: UserWarning: Argument interpolation should be of type InterpolationMode instead of int. Please, use InterpolationMode enum.\n",
      "  warnings.warn(\n"
     ]
    },
    {
     "name": "stdout",
     "output_type": "stream",
     "text": [
      "Train loss: 0.03682023659348488 at step: 2000\n",
      "saving the latest model photoshoped_final (epoch 19, model.total_steps 2000)\n",
      "face\n",
      "(Val @ epoch 19) acc: 0.7696078431372549; ap: 0.838854266762574\n",
      "EarlyStopping counter: 4 out of 5\n",
      "20\n"
     ]
    },
    {
     "name": "stderr",
     "output_type": "stream",
     "text": [
      "C:\\Users\\Jakob\\anaconda3\\envs\\DeepLearning\\lib\\site-packages\\torchvision\\transforms\\functional.py:423: UserWarning: Argument interpolation should be of type InterpolationMode instead of int. Please, use InterpolationMode enum.\n",
      "  warnings.warn(\n"
     ]
    },
    {
     "name": "stdout",
     "output_type": "stream",
     "text": [
      "saving the model at the end of epoch 20, iters 2163\n",
      "face\n",
      "(Val @ epoch 20) acc: 0.7549019607843137; ap: 0.8387325279411704\n",
      "EarlyStopping counter: 5 out of 5\n",
      "Learning rate dropped by 10, continue training...\n",
      "21\n"
     ]
    },
    {
     "name": "stderr",
     "output_type": "stream",
     "text": [
      "C:\\Users\\Jakob\\anaconda3\\envs\\DeepLearning\\lib\\site-packages\\torchvision\\transforms\\functional.py:423: UserWarning: Argument interpolation should be of type InterpolationMode instead of int. Please, use InterpolationMode enum.\n",
      "  warnings.warn(\n"
     ]
    },
    {
     "name": "stdout",
     "output_type": "stream",
     "text": [
      "face\n",
      "(Val @ epoch 21) acc: 0.7794117647058824; ap: 0.857375656701052\n",
      "Validation accuracy increased (-inf --> 0.779412).  Saving model ...\n",
      "22\n"
     ]
    },
    {
     "name": "stderr",
     "output_type": "stream",
     "text": [
      "C:\\Users\\Jakob\\anaconda3\\envs\\DeepLearning\\lib\\site-packages\\torchvision\\transforms\\functional.py:423: UserWarning: Argument interpolation should be of type InterpolationMode instead of int. Please, use InterpolationMode enum.\n",
      "  warnings.warn(\n"
     ]
    },
    {
     "name": "stdout",
     "output_type": "stream",
     "text": [
      "face\n",
      "(Val @ epoch 22) acc: 0.7647058823529411; ap: 0.837281921600778\n",
      "EarlyStopping counter: 1 out of 5\n",
      "23\n"
     ]
    },
    {
     "name": "stderr",
     "output_type": "stream",
     "text": [
      "C:\\Users\\Jakob\\anaconda3\\envs\\DeepLearning\\lib\\site-packages\\torchvision\\transforms\\functional.py:423: UserWarning: Argument interpolation should be of type InterpolationMode instead of int. Please, use InterpolationMode enum.\n",
      "  warnings.warn(\n"
     ]
    },
    {
     "name": "stdout",
     "output_type": "stream",
     "text": [
      "Train loss: 0.06324391067028046 at step: 2400\n",
      "face\n",
      "(Val @ epoch 23) acc: 0.75; ap: 0.8482671370947096\n",
      "EarlyStopping counter: 2 out of 5\n",
      "24\n"
     ]
    },
    {
     "name": "stderr",
     "output_type": "stream",
     "text": [
      "C:\\Users\\Jakob\\anaconda3\\envs\\DeepLearning\\lib\\site-packages\\torchvision\\transforms\\functional.py:423: UserWarning: Argument interpolation should be of type InterpolationMode instead of int. Please, use InterpolationMode enum.\n",
      "  warnings.warn(\n"
     ]
    },
    {
     "name": "stdout",
     "output_type": "stream",
     "text": [
      "face\n",
      "(Val @ epoch 24) acc: 0.7598039215686274; ap: 0.8599462272580651\n",
      "EarlyStopping counter: 3 out of 5\n",
      "25\n"
     ]
    },
    {
     "name": "stderr",
     "output_type": "stream",
     "text": [
      "C:\\Users\\Jakob\\anaconda3\\envs\\DeepLearning\\lib\\site-packages\\torchvision\\transforms\\functional.py:423: UserWarning: Argument interpolation should be of type InterpolationMode instead of int. Please, use InterpolationMode enum.\n",
      "  warnings.warn(\n"
     ]
    },
    {
     "name": "stdout",
     "output_type": "stream",
     "text": [
      "face\n",
      "(Val @ epoch 25) acc: 0.7598039215686274; ap: 0.856397249436612\n",
      "EarlyStopping counter: 4 out of 5\n",
      "26\n"
     ]
    },
    {
     "name": "stderr",
     "output_type": "stream",
     "text": [
      "C:\\Users\\Jakob\\anaconda3\\envs\\DeepLearning\\lib\\site-packages\\torchvision\\transforms\\functional.py:423: UserWarning: Argument interpolation should be of type InterpolationMode instead of int. Please, use InterpolationMode enum.\n",
      "  warnings.warn(\n"
     ]
    },
    {
     "name": "stdout",
     "output_type": "stream",
     "text": [
      "face\n",
      "(Val @ epoch 26) acc: 0.7549019607843137; ap: 0.8545071937524853\n",
      "EarlyStopping counter: 5 out of 5\n",
      "Early stopping.\n"
     ]
    }
   ],
   "source": [
    "train(classes, niter, loss_freq, save_latest_freq, save_epoch_freq, batch_size, dataroot, mode, isTrain, no_crop, crop_size, no_flip, no_resize, rz_interp, load_size, blur_prob, blur_sig, jpg_prob, jpg_method, jpg_quality, checkpoints_dir, name, continue_train, init_gain, optim, lr, beta1, epoch, gpu_ids, earlystop_epoch, serial_batches, num_threads)\n"
   ]
  },
  {
   "cell_type": "markdown",
   "metadata": {},
   "source": [
    "### Train 10% Augmentation Model"
   ]
  },
  {
   "cell_type": "code",
   "execution_count": 3,
   "metadata": {},
   "outputs": [
    {
     "name": "stdout",
     "output_type": "stream",
     "text": [
      "face\n",
      "#training images = 103\n",
      "0\n"
     ]
    },
    {
     "name": "stderr",
     "output_type": "stream",
     "text": [
      "C:\\Users\\Jakob\\anaconda3\\envs\\DeepLearning\\lib\\site-packages\\torchvision\\transforms\\functional.py:423: UserWarning: Argument interpolation should be of type InterpolationMode instead of int. Please, use InterpolationMode enum.\n",
      "  warnings.warn(\n"
     ]
    },
    {
     "name": "stdout",
     "output_type": "stream",
     "text": [
      "saving the model at the end of epoch 0, iters 103\n",
      "face\n",
      "(Val @ epoch 0) acc: 0.6862745098039216; ap: 0.6923200709515527\n",
      "Validation accuracy increased (-inf --> 0.686275).  Saving model ...\n",
      "1\n"
     ]
    },
    {
     "name": "stderr",
     "output_type": "stream",
     "text": [
      "C:\\Users\\Jakob\\anaconda3\\envs\\DeepLearning\\lib\\site-packages\\torchvision\\transforms\\functional.py:423: UserWarning: Argument interpolation should be of type InterpolationMode instead of int. Please, use InterpolationMode enum.\n",
      "  warnings.warn(\n"
     ]
    },
    {
     "name": "stdout",
     "output_type": "stream",
     "text": [
      "face\n",
      "(Val @ epoch 1) acc: 0.6715686274509803; ap: 0.6733195419561335\n",
      "EarlyStopping counter: 1 out of 5\n",
      "2\n"
     ]
    },
    {
     "name": "stderr",
     "output_type": "stream",
     "text": [
      "C:\\Users\\Jakob\\anaconda3\\envs\\DeepLearning\\lib\\site-packages\\torchvision\\transforms\\functional.py:423: UserWarning: Argument interpolation should be of type InterpolationMode instead of int. Please, use InterpolationMode enum.\n",
      "  warnings.warn(\n"
     ]
    },
    {
     "name": "stdout",
     "output_type": "stream",
     "text": [
      "face\n",
      "(Val @ epoch 2) acc: 0.6470588235294118; ap: 0.7211781916323452\n",
      "EarlyStopping counter: 2 out of 5\n",
      "3\n"
     ]
    },
    {
     "name": "stderr",
     "output_type": "stream",
     "text": [
      "C:\\Users\\Jakob\\anaconda3\\envs\\DeepLearning\\lib\\site-packages\\torchvision\\transforms\\functional.py:423: UserWarning: Argument interpolation should be of type InterpolationMode instead of int. Please, use InterpolationMode enum.\n",
      "  warnings.warn(\n"
     ]
    },
    {
     "name": "stdout",
     "output_type": "stream",
     "text": [
      "Train loss: 0.20522694289684296 at step: 400\n",
      "face\n",
      "(Val @ epoch 3) acc: 0.6862745098039216; ap: 0.7604611167425566\n",
      "EarlyStopping counter: 3 out of 5\n",
      "4\n"
     ]
    },
    {
     "name": "stderr",
     "output_type": "stream",
     "text": [
      "C:\\Users\\Jakob\\anaconda3\\envs\\DeepLearning\\lib\\site-packages\\torchvision\\transforms\\functional.py:423: UserWarning: Argument interpolation should be of type InterpolationMode instead of int. Please, use InterpolationMode enum.\n",
      "  warnings.warn(\n"
     ]
    },
    {
     "name": "stdout",
     "output_type": "stream",
     "text": [
      "face\n",
      "(Val @ epoch 4) acc: 0.6715686274509803; ap: 0.8167604247442086\n",
      "EarlyStopping counter: 4 out of 5\n",
      "5\n"
     ]
    },
    {
     "name": "stderr",
     "output_type": "stream",
     "text": [
      "C:\\Users\\Jakob\\anaconda3\\envs\\DeepLearning\\lib\\site-packages\\torchvision\\transforms\\functional.py:423: UserWarning: Argument interpolation should be of type InterpolationMode instead of int. Please, use InterpolationMode enum.\n",
      "  warnings.warn(\n"
     ]
    },
    {
     "name": "stdout",
     "output_type": "stream",
     "text": [
      "face\n",
      "(Val @ epoch 5) acc: 0.696078431372549; ap: 0.7742705782848383\n",
      "Validation accuracy increased (0.686275 --> 0.696078).  Saving model ...\n",
      "6\n"
     ]
    },
    {
     "name": "stderr",
     "output_type": "stream",
     "text": [
      "C:\\Users\\Jakob\\anaconda3\\envs\\DeepLearning\\lib\\site-packages\\torchvision\\transforms\\functional.py:423: UserWarning: Argument interpolation should be of type InterpolationMode instead of int. Please, use InterpolationMode enum.\n",
      "  warnings.warn(\n"
     ]
    },
    {
     "name": "stdout",
     "output_type": "stream",
     "text": [
      "face\n",
      "(Val @ epoch 6) acc: 0.7058823529411765; ap: 0.7970510159384473\n",
      "Validation accuracy increased (0.696078 --> 0.705882).  Saving model ...\n",
      "7\n"
     ]
    },
    {
     "name": "stderr",
     "output_type": "stream",
     "text": [
      "C:\\Users\\Jakob\\anaconda3\\envs\\DeepLearning\\lib\\site-packages\\torchvision\\transforms\\functional.py:423: UserWarning: Argument interpolation should be of type InterpolationMode instead of int. Please, use InterpolationMode enum.\n",
      "  warnings.warn(\n"
     ]
    },
    {
     "name": "stdout",
     "output_type": "stream",
     "text": [
      "Train loss: 0.17168864607810974 at step: 800\n",
      "face\n",
      "(Val @ epoch 7) acc: 0.75; ap: 0.8024675379661095\n",
      "Validation accuracy increased (0.705882 --> 0.750000).  Saving model ...\n",
      "8\n"
     ]
    },
    {
     "name": "stderr",
     "output_type": "stream",
     "text": [
      "C:\\Users\\Jakob\\anaconda3\\envs\\DeepLearning\\lib\\site-packages\\torchvision\\transforms\\functional.py:423: UserWarning: Argument interpolation should be of type InterpolationMode instead of int. Please, use InterpolationMode enum.\n",
      "  warnings.warn(\n"
     ]
    },
    {
     "name": "stdout",
     "output_type": "stream",
     "text": [
      "face\n",
      "(Val @ epoch 8) acc: 0.7352941176470589; ap: 0.803362403131143\n",
      "EarlyStopping counter: 1 out of 5\n",
      "9\n"
     ]
    },
    {
     "name": "stderr",
     "output_type": "stream",
     "text": [
      "C:\\Users\\Jakob\\anaconda3\\envs\\DeepLearning\\lib\\site-packages\\torchvision\\transforms\\functional.py:423: UserWarning: Argument interpolation should be of type InterpolationMode instead of int. Please, use InterpolationMode enum.\n",
      "  warnings.warn(\n"
     ]
    },
    {
     "name": "stdout",
     "output_type": "stream",
     "text": [
      "face\n",
      "(Val @ epoch 9) acc: 0.7107843137254902; ap: 0.7805756453104763\n",
      "EarlyStopping counter: 2 out of 5\n",
      "10\n"
     ]
    },
    {
     "name": "stderr",
     "output_type": "stream",
     "text": [
      "C:\\Users\\Jakob\\anaconda3\\envs\\DeepLearning\\lib\\site-packages\\torchvision\\transforms\\functional.py:423: UserWarning: Argument interpolation should be of type InterpolationMode instead of int. Please, use InterpolationMode enum.\n",
      "  warnings.warn(\n"
     ]
    },
    {
     "name": "stdout",
     "output_type": "stream",
     "text": [
      "face\n",
      "(Val @ epoch 10) acc: 0.7696078431372549; ap: 0.8418238363060431\n",
      "Validation accuracy increased (0.750000 --> 0.769608).  Saving model ...\n",
      "11\n"
     ]
    },
    {
     "name": "stderr",
     "output_type": "stream",
     "text": [
      "C:\\Users\\Jakob\\anaconda3\\envs\\DeepLearning\\lib\\site-packages\\torchvision\\transforms\\functional.py:423: UserWarning: Argument interpolation should be of type InterpolationMode instead of int. Please, use InterpolationMode enum.\n",
      "  warnings.warn(\n"
     ]
    },
    {
     "name": "stdout",
     "output_type": "stream",
     "text": [
      "Train loss: 0.26830369234085083 at step: 1200\n",
      "face\n",
      "(Val @ epoch 11) acc: 0.7303921568627451; ap: 0.81567289699032\n",
      "EarlyStopping counter: 1 out of 5\n",
      "12\n"
     ]
    },
    {
     "name": "stderr",
     "output_type": "stream",
     "text": [
      "C:\\Users\\Jakob\\anaconda3\\envs\\DeepLearning\\lib\\site-packages\\torchvision\\transforms\\functional.py:423: UserWarning: Argument interpolation should be of type InterpolationMode instead of int. Please, use InterpolationMode enum.\n",
      "  warnings.warn(\n"
     ]
    },
    {
     "name": "stdout",
     "output_type": "stream",
     "text": [
      "face\n",
      "(Val @ epoch 12) acc: 0.7303921568627451; ap: 0.8217373723037484\n",
      "EarlyStopping counter: 2 out of 5\n",
      "13\n"
     ]
    },
    {
     "name": "stderr",
     "output_type": "stream",
     "text": [
      "C:\\Users\\Jakob\\anaconda3\\envs\\DeepLearning\\lib\\site-packages\\torchvision\\transforms\\functional.py:423: UserWarning: Argument interpolation should be of type InterpolationMode instead of int. Please, use InterpolationMode enum.\n",
      "  warnings.warn(\n"
     ]
    },
    {
     "name": "stdout",
     "output_type": "stream",
     "text": [
      "face\n",
      "(Val @ epoch 13) acc: 0.7745098039215687; ap: 0.8378028971345868\n",
      "Validation accuracy increased (0.769608 --> 0.774510).  Saving model ...\n",
      "14\n"
     ]
    },
    {
     "name": "stderr",
     "output_type": "stream",
     "text": [
      "C:\\Users\\Jakob\\anaconda3\\envs\\DeepLearning\\lib\\site-packages\\torchvision\\transforms\\functional.py:423: UserWarning: Argument interpolation should be of type InterpolationMode instead of int. Please, use InterpolationMode enum.\n",
      "  warnings.warn(\n"
     ]
    },
    {
     "name": "stdout",
     "output_type": "stream",
     "text": [
      "face\n",
      "(Val @ epoch 14) acc: 0.7745098039215687; ap: 0.8288740309247886\n",
      "EarlyStopping counter: 1 out of 5\n",
      "15\n"
     ]
    },
    {
     "name": "stderr",
     "output_type": "stream",
     "text": [
      "C:\\Users\\Jakob\\anaconda3\\envs\\DeepLearning\\lib\\site-packages\\torchvision\\transforms\\functional.py:423: UserWarning: Argument interpolation should be of type InterpolationMode instead of int. Please, use InterpolationMode enum.\n",
      "  warnings.warn(\n"
     ]
    },
    {
     "name": "stdout",
     "output_type": "stream",
     "text": [
      "Train loss: 0.018305039033293724 at step: 1600\n",
      "face\n",
      "(Val @ epoch 15) acc: 0.7254901960784313; ap: 0.8364729436869932\n",
      "EarlyStopping counter: 2 out of 5\n",
      "16\n"
     ]
    },
    {
     "name": "stderr",
     "output_type": "stream",
     "text": [
      "C:\\Users\\Jakob\\anaconda3\\envs\\DeepLearning\\lib\\site-packages\\torchvision\\transforms\\functional.py:423: UserWarning: Argument interpolation should be of type InterpolationMode instead of int. Please, use InterpolationMode enum.\n",
      "  warnings.warn(\n"
     ]
    },
    {
     "name": "stdout",
     "output_type": "stream",
     "text": [
      "face\n",
      "(Val @ epoch 16) acc: 0.7549019607843137; ap: 0.8604904116939514\n",
      "EarlyStopping counter: 3 out of 5\n",
      "17\n"
     ]
    },
    {
     "name": "stderr",
     "output_type": "stream",
     "text": [
      "C:\\Users\\Jakob\\anaconda3\\envs\\DeepLearning\\lib\\site-packages\\torchvision\\transforms\\functional.py:423: UserWarning: Argument interpolation should be of type InterpolationMode instead of int. Please, use InterpolationMode enum.\n",
      "  warnings.warn(\n"
     ]
    },
    {
     "name": "stdout",
     "output_type": "stream",
     "text": [
      "face\n",
      "(Val @ epoch 17) acc: 0.7352941176470589; ap: 0.817474063553522\n",
      "EarlyStopping counter: 4 out of 5\n",
      "18\n"
     ]
    },
    {
     "name": "stderr",
     "output_type": "stream",
     "text": [
      "C:\\Users\\Jakob\\anaconda3\\envs\\DeepLearning\\lib\\site-packages\\torchvision\\transforms\\functional.py:423: UserWarning: Argument interpolation should be of type InterpolationMode instead of int. Please, use InterpolationMode enum.\n",
      "  warnings.warn(\n"
     ]
    },
    {
     "name": "stdout",
     "output_type": "stream",
     "text": [
      "face\n",
      "(Val @ epoch 18) acc: 0.7549019607843137; ap: 0.8349945014590391\n",
      "EarlyStopping counter: 5 out of 5\n",
      "Learning rate dropped by 10, continue training...\n",
      "19\n"
     ]
    },
    {
     "name": "stderr",
     "output_type": "stream",
     "text": [
      "C:\\Users\\Jakob\\anaconda3\\envs\\DeepLearning\\lib\\site-packages\\torchvision\\transforms\\functional.py:423: UserWarning: Argument interpolation should be of type InterpolationMode instead of int. Please, use InterpolationMode enum.\n",
      "  warnings.warn(\n"
     ]
    },
    {
     "name": "stdout",
     "output_type": "stream",
     "text": [
      "Train loss: 0.07859870791435242 at step: 2000\n",
      "saving the latest model photoshop0.1 (epoch 19, model.total_steps 2000)\n",
      "face\n",
      "(Val @ epoch 19) acc: 0.7794117647058824; ap: 0.8555719338529912\n",
      "Validation accuracy increased (-inf --> 0.779412).  Saving model ...\n",
      "20\n"
     ]
    },
    {
     "name": "stderr",
     "output_type": "stream",
     "text": [
      "C:\\Users\\Jakob\\anaconda3\\envs\\DeepLearning\\lib\\site-packages\\torchvision\\transforms\\functional.py:423: UserWarning: Argument interpolation should be of type InterpolationMode instead of int. Please, use InterpolationMode enum.\n",
      "  warnings.warn(\n"
     ]
    },
    {
     "name": "stdout",
     "output_type": "stream",
     "text": [
      "saving the model at the end of epoch 20, iters 2163\n",
      "face\n",
      "(Val @ epoch 20) acc: 0.803921568627451; ap: 0.8763280051062177\n",
      "Validation accuracy increased (0.779412 --> 0.803922).  Saving model ...\n",
      "21\n"
     ]
    },
    {
     "name": "stderr",
     "output_type": "stream",
     "text": [
      "C:\\Users\\Jakob\\anaconda3\\envs\\DeepLearning\\lib\\site-packages\\torchvision\\transforms\\functional.py:423: UserWarning: Argument interpolation should be of type InterpolationMode instead of int. Please, use InterpolationMode enum.\n",
      "  warnings.warn(\n"
     ]
    },
    {
     "name": "stdout",
     "output_type": "stream",
     "text": [
      "face\n",
      "(Val @ epoch 21) acc: 0.7549019607843137; ap: 0.8476681259875395\n",
      "EarlyStopping counter: 1 out of 5\n",
      "22\n"
     ]
    },
    {
     "name": "stderr",
     "output_type": "stream",
     "text": [
      "C:\\Users\\Jakob\\anaconda3\\envs\\DeepLearning\\lib\\site-packages\\torchvision\\transforms\\functional.py:423: UserWarning: Argument interpolation should be of type InterpolationMode instead of int. Please, use InterpolationMode enum.\n",
      "  warnings.warn(\n"
     ]
    },
    {
     "name": "stdout",
     "output_type": "stream",
     "text": [
      "face\n",
      "(Val @ epoch 22) acc: 0.7696078431372549; ap: 0.8557474294533143\n",
      "EarlyStopping counter: 2 out of 5\n",
      "23\n"
     ]
    },
    {
     "name": "stderr",
     "output_type": "stream",
     "text": [
      "C:\\Users\\Jakob\\anaconda3\\envs\\DeepLearning\\lib\\site-packages\\torchvision\\transforms\\functional.py:423: UserWarning: Argument interpolation should be of type InterpolationMode instead of int. Please, use InterpolationMode enum.\n",
      "  warnings.warn(\n"
     ]
    },
    {
     "name": "stdout",
     "output_type": "stream",
     "text": [
      "Train loss: 0.08999665081501007 at step: 2400\n",
      "face\n",
      "(Val @ epoch 23) acc: 0.7892156862745098; ap: 0.8696703655678417\n",
      "EarlyStopping counter: 3 out of 5\n",
      "24\n"
     ]
    },
    {
     "name": "stderr",
     "output_type": "stream",
     "text": [
      "C:\\Users\\Jakob\\anaconda3\\envs\\DeepLearning\\lib\\site-packages\\torchvision\\transforms\\functional.py:423: UserWarning: Argument interpolation should be of type InterpolationMode instead of int. Please, use InterpolationMode enum.\n",
      "  warnings.warn(\n"
     ]
    },
    {
     "name": "stdout",
     "output_type": "stream",
     "text": [
      "face\n",
      "(Val @ epoch 24) acc: 0.7647058823529411; ap: 0.8653308770939212\n",
      "EarlyStopping counter: 4 out of 5\n",
      "25\n"
     ]
    },
    {
     "name": "stderr",
     "output_type": "stream",
     "text": [
      "C:\\Users\\Jakob\\anaconda3\\envs\\DeepLearning\\lib\\site-packages\\torchvision\\transforms\\functional.py:423: UserWarning: Argument interpolation should be of type InterpolationMode instead of int. Please, use InterpolationMode enum.\n",
      "  warnings.warn(\n"
     ]
    },
    {
     "name": "stdout",
     "output_type": "stream",
     "text": [
      "face\n",
      "(Val @ epoch 25) acc: 0.7892156862745098; ap: 0.865883905215973\n",
      "EarlyStopping counter: 5 out of 5\n",
      "Learning rate dropped by 10, continue training...\n",
      "26\n"
     ]
    },
    {
     "name": "stderr",
     "output_type": "stream",
     "text": [
      "C:\\Users\\Jakob\\anaconda3\\envs\\DeepLearning\\lib\\site-packages\\torchvision\\transforms\\functional.py:423: UserWarning: Argument interpolation should be of type InterpolationMode instead of int. Please, use InterpolationMode enum.\n",
      "  warnings.warn(\n"
     ]
    },
    {
     "name": "stdout",
     "output_type": "stream",
     "text": [
      "face\n",
      "(Val @ epoch 26) acc: 0.7892156862745098; ap: 0.8608317375265666\n",
      "Validation accuracy increased (-inf --> 0.789216).  Saving model ...\n",
      "27\n"
     ]
    },
    {
     "name": "stderr",
     "output_type": "stream",
     "text": [
      "C:\\Users\\Jakob\\anaconda3\\envs\\DeepLearning\\lib\\site-packages\\torchvision\\transforms\\functional.py:423: UserWarning: Argument interpolation should be of type InterpolationMode instead of int. Please, use InterpolationMode enum.\n",
      "  warnings.warn(\n"
     ]
    },
    {
     "name": "stdout",
     "output_type": "stream",
     "text": [
      "Train loss: 0.01138664036989212 at step: 2800\n",
      "face\n",
      "(Val @ epoch 27) acc: 0.7647058823529411; ap: 0.8578248205332053\n",
      "EarlyStopping counter: 1 out of 5\n",
      "28\n"
     ]
    },
    {
     "name": "stderr",
     "output_type": "stream",
     "text": [
      "C:\\Users\\Jakob\\anaconda3\\envs\\DeepLearning\\lib\\site-packages\\torchvision\\transforms\\functional.py:423: UserWarning: Argument interpolation should be of type InterpolationMode instead of int. Please, use InterpolationMode enum.\n",
      "  warnings.warn(\n"
     ]
    },
    {
     "name": "stdout",
     "output_type": "stream",
     "text": [
      "face\n",
      "(Val @ epoch 28) acc: 0.7843137254901961; ap: 0.8611986128355682\n",
      "EarlyStopping counter: 2 out of 5\n",
      "29\n"
     ]
    },
    {
     "name": "stderr",
     "output_type": "stream",
     "text": [
      "C:\\Users\\Jakob\\anaconda3\\envs\\DeepLearning\\lib\\site-packages\\torchvision\\transforms\\functional.py:423: UserWarning: Argument interpolation should be of type InterpolationMode instead of int. Please, use InterpolationMode enum.\n",
      "  warnings.warn(\n"
     ]
    },
    {
     "name": "stdout",
     "output_type": "stream",
     "text": [
      "face\n",
      "(Val @ epoch 29) acc: 0.7843137254901961; ap: 0.8579511672154219\n",
      "EarlyStopping counter: 3 out of 5\n",
      "30\n"
     ]
    },
    {
     "name": "stderr",
     "output_type": "stream",
     "text": [
      "C:\\Users\\Jakob\\anaconda3\\envs\\DeepLearning\\lib\\site-packages\\torchvision\\transforms\\functional.py:423: UserWarning: Argument interpolation should be of type InterpolationMode instead of int. Please, use InterpolationMode enum.\n",
      "  warnings.warn(\n"
     ]
    },
    {
     "name": "stdout",
     "output_type": "stream",
     "text": [
      "face\n",
      "(Val @ epoch 30) acc: 0.7941176470588235; ap: 0.8728179794687321\n",
      "Validation accuracy increased (0.789216 --> 0.794118).  Saving model ...\n",
      "31\n"
     ]
    },
    {
     "name": "stderr",
     "output_type": "stream",
     "text": [
      "C:\\Users\\Jakob\\anaconda3\\envs\\DeepLearning\\lib\\site-packages\\torchvision\\transforms\\functional.py:423: UserWarning: Argument interpolation should be of type InterpolationMode instead of int. Please, use InterpolationMode enum.\n",
      "  warnings.warn(\n"
     ]
    },
    {
     "name": "stdout",
     "output_type": "stream",
     "text": [
      "Train loss: 0.0035678863059729338 at step: 3200\n",
      "face\n",
      "(Val @ epoch 31) acc: 0.7941176470588235; ap: 0.8683212304623875\n",
      "EarlyStopping counter: 1 out of 5\n",
      "32\n"
     ]
    },
    {
     "name": "stderr",
     "output_type": "stream",
     "text": [
      "C:\\Users\\Jakob\\anaconda3\\envs\\DeepLearning\\lib\\site-packages\\torchvision\\transforms\\functional.py:423: UserWarning: Argument interpolation should be of type InterpolationMode instead of int. Please, use InterpolationMode enum.\n",
      "  warnings.warn(\n"
     ]
    },
    {
     "name": "stdout",
     "output_type": "stream",
     "text": [
      "face\n",
      "(Val @ epoch 32) acc: 0.7843137254901961; ap: 0.856877426907884\n",
      "EarlyStopping counter: 2 out of 5\n",
      "33\n"
     ]
    },
    {
     "name": "stderr",
     "output_type": "stream",
     "text": [
      "C:\\Users\\Jakob\\anaconda3\\envs\\DeepLearning\\lib\\site-packages\\torchvision\\transforms\\functional.py:423: UserWarning: Argument interpolation should be of type InterpolationMode instead of int. Please, use InterpolationMode enum.\n",
      "  warnings.warn(\n"
     ]
    },
    {
     "name": "stdout",
     "output_type": "stream",
     "text": [
      "face\n",
      "(Val @ epoch 33) acc: 0.803921568627451; ap: 0.8604390995976328\n",
      "Validation accuracy increased (0.794118 --> 0.803922).  Saving model ...\n",
      "34\n"
     ]
    },
    {
     "name": "stderr",
     "output_type": "stream",
     "text": [
      "C:\\Users\\Jakob\\anaconda3\\envs\\DeepLearning\\lib\\site-packages\\torchvision\\transforms\\functional.py:423: UserWarning: Argument interpolation should be of type InterpolationMode instead of int. Please, use InterpolationMode enum.\n",
      "  warnings.warn(\n"
     ]
    },
    {
     "name": "stdout",
     "output_type": "stream",
     "text": [
      "Train loss: 0.006679389625787735 at step: 3600\n",
      "face\n",
      "(Val @ epoch 34) acc: 0.7990196078431373; ap: 0.8660780740361864\n",
      "EarlyStopping counter: 1 out of 5\n",
      "35\n"
     ]
    },
    {
     "name": "stderr",
     "output_type": "stream",
     "text": [
      "C:\\Users\\Jakob\\anaconda3\\envs\\DeepLearning\\lib\\site-packages\\torchvision\\transforms\\functional.py:423: UserWarning: Argument interpolation should be of type InterpolationMode instead of int. Please, use InterpolationMode enum.\n",
      "  warnings.warn(\n"
     ]
    },
    {
     "name": "stdout",
     "output_type": "stream",
     "text": [
      "face\n",
      "(Val @ epoch 35) acc: 0.7941176470588235; ap: 0.8644568335447106\n",
      "EarlyStopping counter: 2 out of 5\n",
      "36\n"
     ]
    },
    {
     "name": "stderr",
     "output_type": "stream",
     "text": [
      "C:\\Users\\Jakob\\anaconda3\\envs\\DeepLearning\\lib\\site-packages\\torchvision\\transforms\\functional.py:423: UserWarning: Argument interpolation should be of type InterpolationMode instead of int. Please, use InterpolationMode enum.\n",
      "  warnings.warn(\n"
     ]
    },
    {
     "name": "stdout",
     "output_type": "stream",
     "text": [
      "face\n",
      "(Val @ epoch 36) acc: 0.7794117647058824; ap: 0.8605618435456502\n",
      "EarlyStopping counter: 3 out of 5\n",
      "37\n"
     ]
    },
    {
     "name": "stderr",
     "output_type": "stream",
     "text": [
      "C:\\Users\\Jakob\\anaconda3\\envs\\DeepLearning\\lib\\site-packages\\torchvision\\transforms\\functional.py:423: UserWarning: Argument interpolation should be of type InterpolationMode instead of int. Please, use InterpolationMode enum.\n",
      "  warnings.warn(\n"
     ]
    },
    {
     "name": "stdout",
     "output_type": "stream",
     "text": [
      "face\n",
      "(Val @ epoch 37) acc: 0.7892156862745098; ap: 0.8696962150825552\n",
      "EarlyStopping counter: 4 out of 5\n",
      "38\n"
     ]
    },
    {
     "name": "stderr",
     "output_type": "stream",
     "text": [
      "C:\\Users\\Jakob\\anaconda3\\envs\\DeepLearning\\lib\\site-packages\\torchvision\\transforms\\functional.py:423: UserWarning: Argument interpolation should be of type InterpolationMode instead of int. Please, use InterpolationMode enum.\n",
      "  warnings.warn(\n"
     ]
    },
    {
     "name": "stdout",
     "output_type": "stream",
     "text": [
      "Train loss: 0.00474674953147769 at step: 4000\n",
      "saving the latest model photoshop0.1 (epoch 38, model.total_steps 4000)\n",
      "face\n",
      "(Val @ epoch 38) acc: 0.7696078431372549; ap: 0.8523812916681308\n",
      "EarlyStopping counter: 5 out of 5\n",
      "Early stopping.\n"
     ]
    }
   ],
   "source": [
    "train(classes, niter, loss_freq, save_latest_freq, save_epoch_freq, batch_size, dataroot, mode, isTrain, no_crop, crop_size, no_flip, no_resize, rz_interp, load_size, .1, blur_sig, .1, jpg_method, jpg_quality, checkpoints_dir, 'photoshop0.1', continue_train, init_gain, optim, lr, beta1, epoch, gpu_ids, earlystop_epoch, serial_batches, num_threads)\n"
   ]
  },
  {
   "cell_type": "markdown",
   "metadata": {},
   "source": [
    "### Train No Augmentation Model"
   ]
  },
  {
   "cell_type": "code",
   "execution_count": 3,
   "metadata": {},
   "outputs": [
    {
     "name": "stdout",
     "output_type": "stream",
     "text": [
      "face\n",
      "#training images = 103\n",
      "0\n"
     ]
    },
    {
     "name": "stderr",
     "output_type": "stream",
     "text": [
      "C:\\Users\\Jakob\\anaconda3\\envs\\DeepLearning\\lib\\site-packages\\torchvision\\transforms\\functional.py:423: UserWarning: Argument interpolation should be of type InterpolationMode instead of int. Please, use InterpolationMode enum.\n",
      "  warnings.warn(\n"
     ]
    },
    {
     "name": "stdout",
     "output_type": "stream",
     "text": [
      "saving the model at the end of epoch 0, iters 103\n",
      "face\n",
      "(Val @ epoch 0) acc: 0.5637254901960784; ap: 0.7031245098191558\n",
      "Validation accuracy increased (-inf --> 0.563725).  Saving model ...\n",
      "1\n"
     ]
    },
    {
     "name": "stderr",
     "output_type": "stream",
     "text": [
      "C:\\Users\\Jakob\\anaconda3\\envs\\DeepLearning\\lib\\site-packages\\torchvision\\transforms\\functional.py:423: UserWarning: Argument interpolation should be of type InterpolationMode instead of int. Please, use InterpolationMode enum.\n",
      "  warnings.warn(\n"
     ]
    },
    {
     "name": "stdout",
     "output_type": "stream",
     "text": [
      "face\n",
      "(Val @ epoch 1) acc: 0.696078431372549; ap: 0.8038895337919676\n",
      "Validation accuracy increased (0.563725 --> 0.696078).  Saving model ...\n",
      "2\n"
     ]
    },
    {
     "name": "stderr",
     "output_type": "stream",
     "text": [
      "C:\\Users\\Jakob\\anaconda3\\envs\\DeepLearning\\lib\\site-packages\\torchvision\\transforms\\functional.py:423: UserWarning: Argument interpolation should be of type InterpolationMode instead of int. Please, use InterpolationMode enum.\n",
      "  warnings.warn(\n"
     ]
    },
    {
     "name": "stdout",
     "output_type": "stream",
     "text": [
      "face\n",
      "(Val @ epoch 2) acc: 0.6862745098039216; ap: 0.7642309302882786\n",
      "EarlyStopping counter: 1 out of 5\n",
      "3\n"
     ]
    },
    {
     "name": "stderr",
     "output_type": "stream",
     "text": [
      "C:\\Users\\Jakob\\anaconda3\\envs\\DeepLearning\\lib\\site-packages\\torchvision\\transforms\\functional.py:423: UserWarning: Argument interpolation should be of type InterpolationMode instead of int. Please, use InterpolationMode enum.\n",
      "  warnings.warn(\n"
     ]
    },
    {
     "name": "stdout",
     "output_type": "stream",
     "text": [
      "Train loss: 0.39761948585510254 at step: 400\n",
      "face\n",
      "(Val @ epoch 3) acc: 0.696078431372549; ap: 0.7610015608740177\n",
      "EarlyStopping counter: 2 out of 5\n",
      "4\n"
     ]
    },
    {
     "name": "stderr",
     "output_type": "stream",
     "text": [
      "C:\\Users\\Jakob\\anaconda3\\envs\\DeepLearning\\lib\\site-packages\\torchvision\\transforms\\functional.py:423: UserWarning: Argument interpolation should be of type InterpolationMode instead of int. Please, use InterpolationMode enum.\n",
      "  warnings.warn(\n"
     ]
    },
    {
     "name": "stdout",
     "output_type": "stream",
     "text": [
      "face\n",
      "(Val @ epoch 4) acc: 0.7450980392156863; ap: 0.8766850937741038\n",
      "Validation accuracy increased (0.696078 --> 0.745098).  Saving model ...\n",
      "5\n"
     ]
    },
    {
     "name": "stderr",
     "output_type": "stream",
     "text": [
      "C:\\Users\\Jakob\\anaconda3\\envs\\DeepLearning\\lib\\site-packages\\torchvision\\transforms\\functional.py:423: UserWarning: Argument interpolation should be of type InterpolationMode instead of int. Please, use InterpolationMode enum.\n",
      "  warnings.warn(\n"
     ]
    },
    {
     "name": "stdout",
     "output_type": "stream",
     "text": [
      "face\n",
      "(Val @ epoch 5) acc: 0.7401960784313726; ap: 0.855965486083176\n",
      "EarlyStopping counter: 1 out of 5\n",
      "6\n"
     ]
    },
    {
     "name": "stderr",
     "output_type": "stream",
     "text": [
      "C:\\Users\\Jakob\\anaconda3\\envs\\DeepLearning\\lib\\site-packages\\torchvision\\transforms\\functional.py:423: UserWarning: Argument interpolation should be of type InterpolationMode instead of int. Please, use InterpolationMode enum.\n",
      "  warnings.warn(\n"
     ]
    },
    {
     "name": "stdout",
     "output_type": "stream",
     "text": [
      "face\n",
      "(Val @ epoch 6) acc: 0.7254901960784313; ap: 0.8060941186924837\n",
      "EarlyStopping counter: 2 out of 5\n",
      "7\n"
     ]
    },
    {
     "name": "stderr",
     "output_type": "stream",
     "text": [
      "C:\\Users\\Jakob\\anaconda3\\envs\\DeepLearning\\lib\\site-packages\\torchvision\\transforms\\functional.py:423: UserWarning: Argument interpolation should be of type InterpolationMode instead of int. Please, use InterpolationMode enum.\n",
      "  warnings.warn(\n"
     ]
    },
    {
     "name": "stdout",
     "output_type": "stream",
     "text": [
      "Train loss: 0.09687986969947815 at step: 800\n",
      "face\n",
      "(Val @ epoch 7) acc: 0.7794117647058824; ap: 0.8642054383095419\n",
      "Validation accuracy increased (0.745098 --> 0.779412).  Saving model ...\n",
      "8\n"
     ]
    },
    {
     "name": "stderr",
     "output_type": "stream",
     "text": [
      "C:\\Users\\Jakob\\anaconda3\\envs\\DeepLearning\\lib\\site-packages\\torchvision\\transforms\\functional.py:423: UserWarning: Argument interpolation should be of type InterpolationMode instead of int. Please, use InterpolationMode enum.\n",
      "  warnings.warn(\n"
     ]
    },
    {
     "name": "stdout",
     "output_type": "stream",
     "text": [
      "face\n",
      "(Val @ epoch 8) acc: 0.7843137254901961; ap: 0.8728824415928069\n",
      "Validation accuracy increased (0.779412 --> 0.784314).  Saving model ...\n",
      "9\n"
     ]
    },
    {
     "name": "stderr",
     "output_type": "stream",
     "text": [
      "C:\\Users\\Jakob\\anaconda3\\envs\\DeepLearning\\lib\\site-packages\\torchvision\\transforms\\functional.py:423: UserWarning: Argument interpolation should be of type InterpolationMode instead of int. Please, use InterpolationMode enum.\n",
      "  warnings.warn(\n"
     ]
    },
    {
     "name": "stdout",
     "output_type": "stream",
     "text": [
      "face\n",
      "(Val @ epoch 9) acc: 0.7009803921568627; ap: 0.8008568434612677\n",
      "EarlyStopping counter: 1 out of 5\n",
      "10\n"
     ]
    },
    {
     "name": "stderr",
     "output_type": "stream",
     "text": [
      "C:\\Users\\Jakob\\anaconda3\\envs\\DeepLearning\\lib\\site-packages\\torchvision\\transforms\\functional.py:423: UserWarning: Argument interpolation should be of type InterpolationMode instead of int. Please, use InterpolationMode enum.\n",
      "  warnings.warn(\n"
     ]
    },
    {
     "name": "stdout",
     "output_type": "stream",
     "text": [
      "face\n",
      "(Val @ epoch 10) acc: 0.7549019607843137; ap: 0.8342427518518056\n",
      "EarlyStopping counter: 2 out of 5\n",
      "11\n"
     ]
    },
    {
     "name": "stderr",
     "output_type": "stream",
     "text": [
      "C:\\Users\\Jakob\\anaconda3\\envs\\DeepLearning\\lib\\site-packages\\torchvision\\transforms\\functional.py:423: UserWarning: Argument interpolation should be of type InterpolationMode instead of int. Please, use InterpolationMode enum.\n",
      "  warnings.warn(\n"
     ]
    },
    {
     "name": "stdout",
     "output_type": "stream",
     "text": [
      "Train loss: 0.16467685997486115 at step: 1200\n",
      "face\n",
      "(Val @ epoch 11) acc: 0.7254901960784313; ap: 0.810243791950986\n",
      "EarlyStopping counter: 3 out of 5\n",
      "12\n"
     ]
    },
    {
     "name": "stderr",
     "output_type": "stream",
     "text": [
      "C:\\Users\\Jakob\\anaconda3\\envs\\DeepLearning\\lib\\site-packages\\torchvision\\transforms\\functional.py:423: UserWarning: Argument interpolation should be of type InterpolationMode instead of int. Please, use InterpolationMode enum.\n",
      "  warnings.warn(\n"
     ]
    },
    {
     "name": "stdout",
     "output_type": "stream",
     "text": [
      "face\n",
      "(Val @ epoch 12) acc: 0.7254901960784313; ap: 0.7853808860635003\n",
      "EarlyStopping counter: 4 out of 5\n",
      "13\n"
     ]
    },
    {
     "name": "stderr",
     "output_type": "stream",
     "text": [
      "C:\\Users\\Jakob\\anaconda3\\envs\\DeepLearning\\lib\\site-packages\\torchvision\\transforms\\functional.py:423: UserWarning: Argument interpolation should be of type InterpolationMode instead of int. Please, use InterpolationMode enum.\n",
      "  warnings.warn(\n"
     ]
    },
    {
     "name": "stdout",
     "output_type": "stream",
     "text": [
      "face\n",
      "(Val @ epoch 13) acc: 0.7696078431372549; ap: 0.8567577445791412\n",
      "EarlyStopping counter: 5 out of 5\n",
      "Learning rate dropped by 10, continue training...\n",
      "14\n"
     ]
    },
    {
     "name": "stderr",
     "output_type": "stream",
     "text": [
      "C:\\Users\\Jakob\\anaconda3\\envs\\DeepLearning\\lib\\site-packages\\torchvision\\transforms\\functional.py:423: UserWarning: Argument interpolation should be of type InterpolationMode instead of int. Please, use InterpolationMode enum.\n",
      "  warnings.warn(\n"
     ]
    },
    {
     "name": "stdout",
     "output_type": "stream",
     "text": [
      "face\n",
      "(Val @ epoch 14) acc: 0.7843137254901961; ap: 0.8609410441194287\n",
      "Validation accuracy increased (-inf --> 0.784314).  Saving model ...\n",
      "15\n"
     ]
    },
    {
     "name": "stderr",
     "output_type": "stream",
     "text": [
      "C:\\Users\\Jakob\\anaconda3\\envs\\DeepLearning\\lib\\site-packages\\torchvision\\transforms\\functional.py:423: UserWarning: Argument interpolation should be of type InterpolationMode instead of int. Please, use InterpolationMode enum.\n",
      "  warnings.warn(\n"
     ]
    },
    {
     "name": "stdout",
     "output_type": "stream",
     "text": [
      "Train loss: 0.08383216708898544 at step: 1600\n",
      "face\n",
      "(Val @ epoch 15) acc: 0.7892156862745098; ap: 0.8566162939196054\n",
      "Validation accuracy increased (0.784314 --> 0.789216).  Saving model ...\n",
      "16\n"
     ]
    },
    {
     "name": "stderr",
     "output_type": "stream",
     "text": [
      "C:\\Users\\Jakob\\anaconda3\\envs\\DeepLearning\\lib\\site-packages\\torchvision\\transforms\\functional.py:423: UserWarning: Argument interpolation should be of type InterpolationMode instead of int. Please, use InterpolationMode enum.\n",
      "  warnings.warn(\n"
     ]
    },
    {
     "name": "stdout",
     "output_type": "stream",
     "text": [
      "face\n",
      "(Val @ epoch 16) acc: 0.7941176470588235; ap: 0.8646912261835646\n",
      "Validation accuracy increased (0.789216 --> 0.794118).  Saving model ...\n",
      "17\n"
     ]
    },
    {
     "name": "stderr",
     "output_type": "stream",
     "text": [
      "C:\\Users\\Jakob\\anaconda3\\envs\\DeepLearning\\lib\\site-packages\\torchvision\\transforms\\functional.py:423: UserWarning: Argument interpolation should be of type InterpolationMode instead of int. Please, use InterpolationMode enum.\n",
      "  warnings.warn(\n"
     ]
    },
    {
     "name": "stdout",
     "output_type": "stream",
     "text": [
      "face\n",
      "(Val @ epoch 17) acc: 0.7647058823529411; ap: 0.8597700881240511\n",
      "EarlyStopping counter: 1 out of 5\n",
      "18\n"
     ]
    },
    {
     "name": "stderr",
     "output_type": "stream",
     "text": [
      "C:\\Users\\Jakob\\anaconda3\\envs\\DeepLearning\\lib\\site-packages\\torchvision\\transforms\\functional.py:423: UserWarning: Argument interpolation should be of type InterpolationMode instead of int. Please, use InterpolationMode enum.\n",
      "  warnings.warn(\n"
     ]
    },
    {
     "name": "stdout",
     "output_type": "stream",
     "text": [
      "face\n",
      "(Val @ epoch 18) acc: 0.7696078431372549; ap: 0.8620285767767261\n",
      "EarlyStopping counter: 2 out of 5\n",
      "19\n"
     ]
    },
    {
     "name": "stderr",
     "output_type": "stream",
     "text": [
      "C:\\Users\\Jakob\\anaconda3\\envs\\DeepLearning\\lib\\site-packages\\torchvision\\transforms\\functional.py:423: UserWarning: Argument interpolation should be of type InterpolationMode instead of int. Please, use InterpolationMode enum.\n",
      "  warnings.warn(\n"
     ]
    },
    {
     "name": "stdout",
     "output_type": "stream",
     "text": [
      "Train loss: 0.0017191139049828053 at step: 2000\n",
      "saving the latest model photoshop0 (epoch 19, model.total_steps 2000)\n",
      "face\n",
      "(Val @ epoch 19) acc: 0.7941176470588235; ap: 0.8773901385897742\n",
      "EarlyStopping counter: 3 out of 5\n",
      "20\n"
     ]
    },
    {
     "name": "stderr",
     "output_type": "stream",
     "text": [
      "C:\\Users\\Jakob\\anaconda3\\envs\\DeepLearning\\lib\\site-packages\\torchvision\\transforms\\functional.py:423: UserWarning: Argument interpolation should be of type InterpolationMode instead of int. Please, use InterpolationMode enum.\n",
      "  warnings.warn(\n"
     ]
    },
    {
     "name": "stdout",
     "output_type": "stream",
     "text": [
      "saving the model at the end of epoch 20, iters 2163\n",
      "face\n",
      "(Val @ epoch 20) acc: 0.7794117647058824; ap: 0.8726803569896946\n",
      "EarlyStopping counter: 4 out of 5\n",
      "21\n"
     ]
    },
    {
     "name": "stderr",
     "output_type": "stream",
     "text": [
      "C:\\Users\\Jakob\\anaconda3\\envs\\DeepLearning\\lib\\site-packages\\torchvision\\transforms\\functional.py:423: UserWarning: Argument interpolation should be of type InterpolationMode instead of int. Please, use InterpolationMode enum.\n",
      "  warnings.warn(\n"
     ]
    },
    {
     "name": "stdout",
     "output_type": "stream",
     "text": [
      "face\n",
      "(Val @ epoch 21) acc: 0.8088235294117647; ap: 0.8715897376059948\n",
      "Validation accuracy increased (0.794118 --> 0.808824).  Saving model ...\n",
      "22\n"
     ]
    },
    {
     "name": "stderr",
     "output_type": "stream",
     "text": [
      "C:\\Users\\Jakob\\anaconda3\\envs\\DeepLearning\\lib\\site-packages\\torchvision\\transforms\\functional.py:423: UserWarning: Argument interpolation should be of type InterpolationMode instead of int. Please, use InterpolationMode enum.\n",
      "  warnings.warn(\n"
     ]
    },
    {
     "name": "stdout",
     "output_type": "stream",
     "text": [
      "face\n",
      "(Val @ epoch 22) acc: 0.7990196078431373; ap: 0.8684030172607033\n",
      "EarlyStopping counter: 1 out of 5\n",
      "23\n"
     ]
    },
    {
     "name": "stderr",
     "output_type": "stream",
     "text": [
      "C:\\Users\\Jakob\\anaconda3\\envs\\DeepLearning\\lib\\site-packages\\torchvision\\transforms\\functional.py:423: UserWarning: Argument interpolation should be of type InterpolationMode instead of int. Please, use InterpolationMode enum.\n",
      "  warnings.warn(\n"
     ]
    },
    {
     "name": "stdout",
     "output_type": "stream",
     "text": [
      "Train loss: 0.0018098518485203385 at step: 2400\n",
      "face\n",
      "(Val @ epoch 23) acc: 0.7892156862745098; ap: 0.8661625174736297\n",
      "EarlyStopping counter: 2 out of 5\n",
      "24\n"
     ]
    },
    {
     "name": "stderr",
     "output_type": "stream",
     "text": [
      "C:\\Users\\Jakob\\anaconda3\\envs\\DeepLearning\\lib\\site-packages\\torchvision\\transforms\\functional.py:423: UserWarning: Argument interpolation should be of type InterpolationMode instead of int. Please, use InterpolationMode enum.\n",
      "  warnings.warn(\n"
     ]
    },
    {
     "name": "stdout",
     "output_type": "stream",
     "text": [
      "face\n",
      "(Val @ epoch 24) acc: 0.7794117647058824; ap: 0.8660799020416187\n",
      "EarlyStopping counter: 3 out of 5\n",
      "25\n"
     ]
    },
    {
     "name": "stderr",
     "output_type": "stream",
     "text": [
      "C:\\Users\\Jakob\\anaconda3\\envs\\DeepLearning\\lib\\site-packages\\torchvision\\transforms\\functional.py:423: UserWarning: Argument interpolation should be of type InterpolationMode instead of int. Please, use InterpolationMode enum.\n",
      "  warnings.warn(\n"
     ]
    },
    {
     "name": "stdout",
     "output_type": "stream",
     "text": [
      "face\n",
      "(Val @ epoch 25) acc: 0.7794117647058824; ap: 0.863876253266664\n",
      "EarlyStopping counter: 4 out of 5\n",
      "26\n"
     ]
    },
    {
     "name": "stderr",
     "output_type": "stream",
     "text": [
      "C:\\Users\\Jakob\\anaconda3\\envs\\DeepLearning\\lib\\site-packages\\torchvision\\transforms\\functional.py:423: UserWarning: Argument interpolation should be of type InterpolationMode instead of int. Please, use InterpolationMode enum.\n",
      "  warnings.warn(\n"
     ]
    },
    {
     "name": "stdout",
     "output_type": "stream",
     "text": [
      "face\n",
      "(Val @ epoch 26) acc: 0.7843137254901961; ap: 0.8732306802005285\n",
      "EarlyStopping counter: 5 out of 5\n",
      "Learning rate dropped by 10, continue training...\n",
      "27\n"
     ]
    },
    {
     "name": "stderr",
     "output_type": "stream",
     "text": [
      "C:\\Users\\Jakob\\anaconda3\\envs\\DeepLearning\\lib\\site-packages\\torchvision\\transforms\\functional.py:423: UserWarning: Argument interpolation should be of type InterpolationMode instead of int. Please, use InterpolationMode enum.\n",
      "  warnings.warn(\n"
     ]
    },
    {
     "name": "stdout",
     "output_type": "stream",
     "text": [
      "Train loss: 0.003312737215310335 at step: 2800\n",
      "face\n",
      "(Val @ epoch 27) acc: 0.7794117647058824; ap: 0.8756585273712193\n",
      "Validation accuracy increased (-inf --> 0.779412).  Saving model ...\n",
      "28\n"
     ]
    },
    {
     "name": "stderr",
     "output_type": "stream",
     "text": [
      "C:\\Users\\Jakob\\anaconda3\\envs\\DeepLearning\\lib\\site-packages\\torchvision\\transforms\\functional.py:423: UserWarning: Argument interpolation should be of type InterpolationMode instead of int. Please, use InterpolationMode enum.\n",
      "  warnings.warn(\n"
     ]
    },
    {
     "name": "stdout",
     "output_type": "stream",
     "text": [
      "face\n",
      "(Val @ epoch 28) acc: 0.7696078431372549; ap: 0.8748891969752868\n",
      "EarlyStopping counter: 1 out of 5\n",
      "29\n"
     ]
    },
    {
     "name": "stderr",
     "output_type": "stream",
     "text": [
      "C:\\Users\\Jakob\\anaconda3\\envs\\DeepLearning\\lib\\site-packages\\torchvision\\transforms\\functional.py:423: UserWarning: Argument interpolation should be of type InterpolationMode instead of int. Please, use InterpolationMode enum.\n",
      "  warnings.warn(\n"
     ]
    },
    {
     "name": "stdout",
     "output_type": "stream",
     "text": [
      "face\n",
      "(Val @ epoch 29) acc: 0.7941176470588235; ap: 0.8772794566123624\n",
      "Validation accuracy increased (0.779412 --> 0.794118).  Saving model ...\n",
      "30\n"
     ]
    },
    {
     "name": "stderr",
     "output_type": "stream",
     "text": [
      "C:\\Users\\Jakob\\anaconda3\\envs\\DeepLearning\\lib\\site-packages\\torchvision\\transforms\\functional.py:423: UserWarning: Argument interpolation should be of type InterpolationMode instead of int. Please, use InterpolationMode enum.\n",
      "  warnings.warn(\n"
     ]
    },
    {
     "name": "stdout",
     "output_type": "stream",
     "text": [
      "face\n",
      "(Val @ epoch 30) acc: 0.7990196078431373; ap: 0.880434687042669\n",
      "Validation accuracy increased (0.794118 --> 0.799020).  Saving model ...\n",
      "31\n"
     ]
    },
    {
     "name": "stderr",
     "output_type": "stream",
     "text": [
      "C:\\Users\\Jakob\\anaconda3\\envs\\DeepLearning\\lib\\site-packages\\torchvision\\transforms\\functional.py:423: UserWarning: Argument interpolation should be of type InterpolationMode instead of int. Please, use InterpolationMode enum.\n",
      "  warnings.warn(\n"
     ]
    },
    {
     "name": "stdout",
     "output_type": "stream",
     "text": [
      "Train loss: 0.016295958310365677 at step: 3200\n",
      "face\n",
      "(Val @ epoch 31) acc: 0.803921568627451; ap: 0.8800042642881405\n",
      "Validation accuracy increased (0.799020 --> 0.803922).  Saving model ...\n",
      "32\n"
     ]
    },
    {
     "name": "stderr",
     "output_type": "stream",
     "text": [
      "C:\\Users\\Jakob\\anaconda3\\envs\\DeepLearning\\lib\\site-packages\\torchvision\\transforms\\functional.py:423: UserWarning: Argument interpolation should be of type InterpolationMode instead of int. Please, use InterpolationMode enum.\n",
      "  warnings.warn(\n"
     ]
    },
    {
     "name": "stdout",
     "output_type": "stream",
     "text": [
      "face\n",
      "(Val @ epoch 32) acc: 0.8186274509803921; ap: 0.882540228970273\n",
      "Validation accuracy increased (0.803922 --> 0.818627).  Saving model ...\n",
      "33\n"
     ]
    },
    {
     "name": "stderr",
     "output_type": "stream",
     "text": [
      "C:\\Users\\Jakob\\anaconda3\\envs\\DeepLearning\\lib\\site-packages\\torchvision\\transforms\\functional.py:423: UserWarning: Argument interpolation should be of type InterpolationMode instead of int. Please, use InterpolationMode enum.\n",
      "  warnings.warn(\n"
     ]
    },
    {
     "name": "stdout",
     "output_type": "stream",
     "text": [
      "face\n",
      "(Val @ epoch 33) acc: 0.7843137254901961; ap: 0.8837114878028531\n",
      "EarlyStopping counter: 1 out of 5\n",
      "34\n"
     ]
    },
    {
     "name": "stderr",
     "output_type": "stream",
     "text": [
      "C:\\Users\\Jakob\\anaconda3\\envs\\DeepLearning\\lib\\site-packages\\torchvision\\transforms\\functional.py:423: UserWarning: Argument interpolation should be of type InterpolationMode instead of int. Please, use InterpolationMode enum.\n",
      "  warnings.warn(\n"
     ]
    },
    {
     "name": "stdout",
     "output_type": "stream",
     "text": [
      "Train loss: 0.0013802845496684313 at step: 3600\n",
      "face\n",
      "(Val @ epoch 34) acc: 0.803921568627451; ap: 0.8808371223928431\n",
      "EarlyStopping counter: 2 out of 5\n",
      "35\n"
     ]
    },
    {
     "name": "stderr",
     "output_type": "stream",
     "text": [
      "C:\\Users\\Jakob\\anaconda3\\envs\\DeepLearning\\lib\\site-packages\\torchvision\\transforms\\functional.py:423: UserWarning: Argument interpolation should be of type InterpolationMode instead of int. Please, use InterpolationMode enum.\n",
      "  warnings.warn(\n"
     ]
    },
    {
     "name": "stdout",
     "output_type": "stream",
     "text": [
      "face\n",
      "(Val @ epoch 35) acc: 0.7990196078431373; ap: 0.8862691936605378\n",
      "EarlyStopping counter: 3 out of 5\n",
      "36\n"
     ]
    },
    {
     "name": "stderr",
     "output_type": "stream",
     "text": [
      "C:\\Users\\Jakob\\anaconda3\\envs\\DeepLearning\\lib\\site-packages\\torchvision\\transforms\\functional.py:423: UserWarning: Argument interpolation should be of type InterpolationMode instead of int. Please, use InterpolationMode enum.\n",
      "  warnings.warn(\n"
     ]
    },
    {
     "name": "stdout",
     "output_type": "stream",
     "text": [
      "face\n",
      "(Val @ epoch 36) acc: 0.7941176470588235; ap: 0.8816734637396136\n",
      "EarlyStopping counter: 4 out of 5\n",
      "37\n"
     ]
    },
    {
     "name": "stderr",
     "output_type": "stream",
     "text": [
      "C:\\Users\\Jakob\\anaconda3\\envs\\DeepLearning\\lib\\site-packages\\torchvision\\transforms\\functional.py:423: UserWarning: Argument interpolation should be of type InterpolationMode instead of int. Please, use InterpolationMode enum.\n",
      "  warnings.warn(\n"
     ]
    },
    {
     "name": "stdout",
     "output_type": "stream",
     "text": [
      "face\n",
      "(Val @ epoch 37) acc: 0.7990196078431373; ap: 0.8816777107104382\n",
      "EarlyStopping counter: 5 out of 5\n",
      "Early stopping.\n"
     ]
    }
   ],
   "source": [
    "train(classes, niter, loss_freq, save_latest_freq, save_epoch_freq, batch_size, dataroot, mode, isTrain, no_crop, crop_size, no_flip, no_resize, rz_interp, load_size, 0, blur_sig, 0, jpg_method, jpg_quality, checkpoints_dir, 'photoshop0', continue_train, init_gain, optim, lr, beta1, epoch, gpu_ids, earlystop_epoch, serial_batches, num_threads)"
   ]
  },
  {
   "cell_type": "markdown",
   "metadata": {},
   "source": [
    "### Average Spectra Analysis"
   ]
  },
  {
   "cell_type": "code",
   "execution_count": 5,
   "metadata": {},
   "outputs": [
    {
     "data": {
      "image/png": "[encoded data removed]",
      "text/plain": [
       "<Figure size 432x288 with 2 Axes>"
      ]
     },
     "metadata": {},
     "output_type": "display_data"
    }
   ],
   "source": [
    "# https://opencv24-python-tutorials.readthedocs.io/en/stable/py_tutorials/py_imgproc/py_transforms/py_fourier_transform/py_fourier_transform.html\n",
    "# https://www.geeksforgeeks.org/how-to-iterate-over-files-in-directory-using-python/\n",
    "import cv2\n",
    "import numpy as np\n",
    "from matplotlib import pyplot as plt\n",
    "\n",
    "img = cv2.imread('./dataset/test/face/0_real/real_00907.jpg',0)\n",
    "avg = img.tolist()\n",
    "\n",
    "for i in range(867, 974):\n",
    "    img = cv2.imread('./dataset/test/face/0_real/real_00{}.jpg'.format(i),0)\n",
    "    for j in range(600):\n",
    "        avg[j] = np.add(avg[j], img[j])\n",
    "\n",
    "for k in range(600):\n",
    "    avg[k] = avg[k] / 108\n",
    "\n",
    "f = np.fft.fft2(avg)\n",
    "fshift = np.fft.fftshift(f)\n",
    "magnitude_spectrum = 20*np.log(np.abs(fshift))\n",
    "\n",
    "plt.subplot(121),plt.imshow(avg, cmap = 'gray')\n",
    "plt.title('Input Image'), plt.xticks([]), plt.yticks([])\n",
    "plt.subplot(122),plt.imshow(magnitude_spectrum, cmap = 'viridis')\n",
    "plt.title('Magnitude Spectrum'), plt.xticks([]), plt.yticks([])\n",
    "plt.show()"
   ]
  },
  {
   "cell_type": "code",
   "execution_count": 6,
   "metadata": {},
   "outputs": [
    {
     "data": {
      "image/png": "[encoded data removed]",
      "text/plain": [
       "<Figure size 432x288 with 2 Axes>"
      ]
     },
     "metadata": {},
     "output_type": "display_data"
    }
   ],
   "source": [
    "# https://opencv24-python-tutorials.readthedocs.io/en/stable/py_tutorials/py_imgproc/py_transforms/py_fourier_transform/py_fourier_transform.html\n",
    "# https://www.geeksforgeeks.org/how-to-iterate-over-files-in-directory-using-python/\n",
    "import cv2\n",
    "import numpy as np\n",
    "from matplotlib import pyplot as plt\n",
    "\n",
    "directory = './dataset/test/face/1_fake/'\n",
    "\n",
    "files = []\n",
    "\n",
    "for filename in os.listdir(directory):\n",
    "    f = os.path.join(directory, filename)\n",
    "    # checking if it is a file\n",
    "    if os.path.isfile(f):\n",
    "        files.append(f)\n",
    "\n",
    "img = cv2.imread(files[0],0)\n",
    "avg = img.tolist()\n",
    "\n",
    "for i in range(1, len(files)):\n",
    "    img = cv2.imread(files[i].format(i),0)\n",
    "    for j in range(600):\n",
    "        avg[j] = np.add(avg[j], img[j])\n",
    "\n",
    "for k in range(600):\n",
    "    avg[k] = avg[k] / 108\n",
    "\n",
    "f = np.fft.fft2(avg)\n",
    "fshift = np.fft.fftshift(f)\n",
    "magnitude_spectrum = 20*np.log(np.abs(fshift))\n",
    "\n",
    "plt.subplot(121),plt.imshow(avg, cmap = 'gray')\n",
    "plt.title('Input Image'), plt.xticks([]), plt.yticks([])\n",
    "plt.subplot(122),plt.imshow(magnitude_spectrum, cmap = 'viridis')\n",
    "plt.title('Magnitude Spectrum'), plt.xticks([]), plt.yticks([])\n",
    "plt.show()"
   ]
  }
 ],
 "metadata": {
  "interpreter": {
   "hash": "bcdafa2799edd6be8ed1695acaa653b4a9b2d375ac1dead41e183743d28c3bd4"
  },
  "kernelspec": {
   "display_name": "Python 3.8.12 ('DeepLearning')",
   "language": "python",
   "name": "python3"
  },
  "language_info": {
   "codemirror_mode": {
    "name": "ipython",
    "version": 3
   },
   "file_extension": ".py",
   "mimetype": "text/x-python",
   "name": "python",
   "nbconvert_exporter": "python",
   "pygments_lexer": "ipython3",
   "version": "3.8.12"
  },
  "orig_nbformat": 4
 },
 "nbformat": 4,
 "nbformat_minor": 2
}
